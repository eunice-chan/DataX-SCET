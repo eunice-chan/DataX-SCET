{
  "nbformat": 4,
  "nbformat_minor": 0,
  "metadata": {
    "kernelspec": {
      "display_name": "Python 3",
      "language": "python",
      "name": "python3"
    },
    "language_info": {
      "codemirror_mode": {
        "name": "ipython",
        "version": 3
      },
      "file_extension": ".py",
      "mimetype": "text/x-python",
      "name": "python",
      "nbconvert_exporter": "python",
      "pygments_lexer": "ipython3",
      "version": "3.8.6"
    },
    "colab": {
      "name": "Future Direction .ipynb",
      "provenance": []
    }
  },
  "cells": [
    {
      "cell_type": "code",
      "metadata": {
        "id": "SwOdWXzxKivX"
      },
      "source": [
        "import pandas as pd\n",
        "import random"
      ],
      "execution_count": null,
      "outputs": []
    },
    {
      "cell_type": "code",
      "metadata": {
        "id": "Vnqq_UOeKivX"
      },
      "source": [
        "#a placeholder dataset. In the future this app will scrape the local, daily events of EventBrite.\n",
        "df = pd.read_csv('LA.csv')\n",
        "df = df.dropna(subset=['Event Name'])\n",
        "#the questionaire filled out by users\n",
        "friends_df = pd.read_csv('friendship_Q')\n",
        "#pairing table\n",
        "relationships = pd.read_csv('relationships.csv')"
      ],
      "execution_count": null,
      "outputs": []
    },
    {
      "cell_type": "code",
      "metadata": {
        "id": "jWkA40dKKivX"
      },
      "source": [
        "df['Event Name'] = df['Event Name'].str.lower()\n",
        "df['Event Description'] = df['Event Description'].str.lower()\n",
        "\n",
        "df = df[df['Event Name'].notna()]\n",
        "\n",
        "df = df[~df['Event Name'].str.contains('kids')]\n",
        "df = df[~df['Event Name'].str.contains('office')]\n",
        "df = df[~df['Event Name'].str.contains('teen')]\n",
        "df = df[~df['Event Name'].str.contains('mtg')]\n",
        "df = df[~df['Event Name'].str.contains('board')]\n",
        "df = df[~df['Event Name'].str.contains('meeting')]\n",
        "df = df[~df['Event Name'].str.contains('child')]\n",
        "df = df[~df['Event Name'].str.contains('job')]\n",
        "\n",
        "\n"
      ],
      "execution_count": null,
      "outputs": []
    },
    {
      "cell_type": "code",
      "metadata": {
        "id": "Fc4XeDkrKivX"
      },
      "source": [
        "friends_df = friends_df.fillna(0)"
      ],
      "execution_count": null,
      "outputs": []
    },
    {
      "cell_type": "code",
      "metadata": {
        "id": "pWqp8iCdKivX"
      },
      "source": [
        "#number to user\n",
        "def n2u(number):\n",
        "    return friends_df.iloc[number]"
      ],
      "execution_count": null,
      "outputs": []
    },
    {
      "cell_type": "markdown",
      "metadata": {
        "id": "7z9tPOa9KivX"
      },
      "source": [
        "Dictionary for relating events to features"
      ]
    },
    {
      "cell_type": "code",
      "metadata": {
        "id": "GRA1aDgDKivX"
      },
      "source": [
        "event_features_dict = {'active': ['sail', 'run', 'marathon', 'workout', 'yoga', 'hike', 'gym', 'dance' 'swim', 'jog'],\n",
        "                       'food': ['food', 'cuisine', 'food festival', 'delicious'],\n",
        "                       'virtual': ['virtual', 'zoom'],\n",
        "                       'music': ['music', 'band', 'concert'],\n",
        "                       'draw' : ['paint', 'art', 'photography', 'crafts', 'beads'],\n",
        "                       'movie' : ['film', 'movie', 'netflix', 'screening'],\n",
        "                      'brain': ['lecture', 'talk', 'science', 'discussion'],\n",
        "                      'food': ['tasting', 'drinks', 'delicious', 'restaurant', 'food festival', 'eat', 'dine', 'cooking'],\n",
        "                      'comedy': ['funny', 'standup', 'stand-up', 'stand up', 'comedy'],\n",
        "                      'writer': ['author', 'library', 'book', 'poetry', 'writing workshop']}\n",
        "keys_events = list(event_features_dict.keys())\n",
        "vals_events = list(event_features_dict.values())"
      ],
      "execution_count": null,
      "outputs": []
    },
    {
      "cell_type": "code",
      "metadata": {
        "id": "SHtHuc4vKivX",
        "outputId": "515722ec-0fad-4e4b-d1f9-e5c220575a82"
      },
      "source": [
        "friends_df['What is your preferred way of spending time with friends?'].iloc[0]"
      ],
      "execution_count": null,
      "outputs": [
        {
          "output_type": "execute_result",
          "data": {
            "text/plain": [
              "'Grabbing foods or drinks together, Doing an activity or exploring, Playing sport, painting, picnicing, going out to the city, etc.'"
            ]
          },
          "metadata": {
            "tags": []
          },
          "execution_count": 67
        }
      ]
    },
    {
      "cell_type": "code",
      "metadata": {
        "id": "6F3zWARzKivY"
      },
      "source": [
        "#finds out if they will like to do an activity together\n",
        "def together(user1, user2, str):\n",
        "    letsdoit = 0\n",
        "    if (str in friends_df['What is your preferred way of spending time with friends?'].iloc[user1]):\n",
        "        if (str in friends_df['What is your preferred way of spending time with friends?'].iloc[user2]):\n",
        "            letsdoit = random.randint(5, 10)\n",
        "    return letsdoit\n",
        "            \n",
        "            \n",
        "            "
      ],
      "execution_count": null,
      "outputs": []
    },
    {
      "cell_type": "code",
      "metadata": {
        "id": "h9ii7mqLKivY",
        "outputId": "16a8aa13-a323-432d-af6d-b08a28db5bda"
      },
      "source": [
        "relationships.columns"
      ],
      "execution_count": null,
      "outputs": [
        {
          "output_type": "execute_result",
          "data": {
            "text/plain": [
              "Index(['Unnamed: 0', 'User1', 'User2', 'Suggested Activity'], dtype='object')"
            ]
          },
          "metadata": {
            "tags": []
          },
          "execution_count": 69
        }
      ]
    },
    {
      "cell_type": "code",
      "metadata": {
        "id": "QhPAbBzVKivY"
      },
      "source": [
        "#returns most compatible activity\n",
        "def most_compat(u1, u2):\n",
        "    user1 = n2u(u1)\n",
        "    user2 = n2u(u2)\n",
        "    \n",
        "    active = user1['Rank these activities on how much you enjoy them? (5 is most enjoyable) [Hiking]'] + user2['Rank these activities on how much you enjoy them? (5 is most enjoyable) [Hiking]']\n",
        "    \n",
        "    draw = user1['Rank these activities on how much you enjoy them? (5 is most enjoyable) [Drawing]'] + user2['Rank these activities on how much you enjoy them? (5 is most enjoyable) [Drawing]']\n",
        "    brain = user1['Rank these activities on how much you enjoy them? (5 is most enjoyable) [Reading nonfiction]'] + user2['Rank these activities on how much you enjoy them? (5 is most enjoyable) [Reading nonfiction]']\n",
        "    food = together(u1, u2, 'Grabbing foods or drinks together')\n",
        "    virtual = together(u1, u2, 'Electronically: messaging, calling, video-chatting, etc.')\n",
        "    writer = together(u1, u2, 'Rank these activities on how much you enjoy them? (5 is most enjoyable) [Journaling]')\n",
        "    \n",
        "    movies = user1['Netflix party'] + user2['Netflix party']\n",
        "    \n",
        "    \n",
        "    dictionary = { 'active' : active, 'draw': draw, 'brain': brain, 'food': food, 'virtual': virtual, 'writer': writer,\n",
        "                 'movie': movies}\n",
        "    \n",
        "    maxy = max(active, draw, brain, food, virtual)\n",
        "    keys = list(dictionary.keys())\n",
        "    vals = list(dictionary.values())\n",
        "    \n",
        "    #randomly picks from top 3\n",
        "    \n",
        "    return keys[vals.index(maxy)]\n",
        "\n",
        "\n",
        "\n",
        "\n"
      ],
      "execution_count": null,
      "outputs": []
    },
    {
      "cell_type": "code",
      "metadata": {
        "id": "JiBv-1ZkKivY"
      },
      "source": [
        "def reccomend_something(u1, u2):\n",
        "    \n",
        "    user1 = n2u(u1)\n",
        "    user2 = n2u(u2)\n",
        "    \n",
        "    compatible_activity = most_compat(u1, u2)\n",
        "    \n",
        "    \n",
        "    lw = event_features_dict.get(most_compat(u1, u2))\n",
        "    new_df = df.copy()\n",
        "    #new_df = if_in_list(lw, new_df.loc[new_df['Event Name']])\n",
        "    mask = new_df['Event Name'].apply(lambda x: any(item for item in lw if item in x))\n",
        "    df1 = df[mask]\n",
        "    \n",
        "    ans = df1.sample()[['Event Name']]\n",
        "    return ans.iloc[0]"
      ],
      "execution_count": null,
      "outputs": []
    },
    {
      "cell_type": "code",
      "metadata": {
        "id": "gKGDyBzMKivY",
        "outputId": "fc4858a7-0adf-46c0-917b-72892d7c19c4"
      },
      "source": [
        "reccomend_something(relationships['User1'].iloc[15], relationships['User2'].iloc[20])"
      ],
      "execution_count": null,
      "outputs": [
        {
          "output_type": "execute_result",
          "data": {
            "text/plain": [
              "Event Name    all-ages hatha yoga\n",
              "Name: 24846, dtype: object"
            ]
          },
          "metadata": {
            "tags": []
          },
          "execution_count": 72
        }
      ]
    },
    {
      "cell_type": "code",
      "metadata": {
        "id": "xHNYOak_KivY"
      },
      "source": [
        "#relationships.apply(lambda x: reccomend_something(relationships['User1'], relationships['User2']), axis=1)\n",
        "relationships['Suggested Activity'] = relationships.apply(lambda x: reccomend_something(x['User1'], x['User2']), axis=1)\n"
      ],
      "execution_count": null,
      "outputs": []
    },
    {
      "cell_type": "code",
      "metadata": {
        "id": "L9VZ4iiRKivY",
        "outputId": "1aad9d13-a4cb-4abb-8092-7f1ba861bdf8"
      },
      "source": [
        "relationships.head(30)"
      ],
      "execution_count": null,
      "outputs": [
        {
          "output_type": "execute_result",
          "data": {
            "text/html": [
              "<div>\n",
              "<style scoped>\n",
              "    .dataframe tbody tr th:only-of-type {\n",
              "        vertical-align: middle;\n",
              "    }\n",
              "\n",
              "    .dataframe tbody tr th {\n",
              "        vertical-align: top;\n",
              "    }\n",
              "\n",
              "    .dataframe thead th {\n",
              "        text-align: right;\n",
              "    }\n",
              "</style>\n",
              "<table border=\"1\" class=\"dataframe\">\n",
              "  <thead>\n",
              "    <tr style=\"text-align: right;\">\n",
              "      <th></th>\n",
              "      <th>Unnamed: 0</th>\n",
              "      <th>User1</th>\n",
              "      <th>User2</th>\n",
              "      <th>Suggested Activity</th>\n",
              "    </tr>\n",
              "  </thead>\n",
              "  <tbody>\n",
              "    <tr>\n",
              "      <th>0</th>\n",
              "      <td>0</td>\n",
              "      <td>0</td>\n",
              "      <td>1</td>\n",
              "      <td>ballet, hip hop, piano, gymnastics, cheerleadi...</td>\n",
              "    </tr>\n",
              "    <tr>\n",
              "      <th>1</th>\n",
              "      <td>1</td>\n",
              "      <td>0</td>\n",
              "      <td>2</td>\n",
              "      <td>ballet, hip hop, piano, gymnastics, cheerleadi...</td>\n",
              "    </tr>\n",
              "    <tr>\n",
              "      <th>2</th>\n",
              "      <td>2</td>\n",
              "      <td>0</td>\n",
              "      <td>3</td>\n",
              "      <td>greater valley glen nc_planning &amp; land use com...</td>\n",
              "    </tr>\n",
              "    <tr>\n",
              "      <th>3</th>\n",
              "      <td>3</td>\n",
              "      <td>0</td>\n",
              "      <td>4</td>\n",
              "      <td>ballet, hip hop, piano, gymnastics, cheerleadi...</td>\n",
              "    </tr>\n",
              "    <tr>\n",
              "      <th>4</th>\n",
              "      <td>4</td>\n",
              "      <td>0</td>\n",
              "      <td>5</td>\n",
              "      <td>dahn yoga classes</td>\n",
              "    </tr>\n",
              "    <tr>\n",
              "      <th>5</th>\n",
              "      <td>5</td>\n",
              "      <td>0</td>\n",
              "      <td>6</td>\n",
              "      <td>ballet, hip hop, piano, gymnastics, cheerleadi...</td>\n",
              "    </tr>\n",
              "    <tr>\n",
              "      <th>6</th>\n",
              "      <td>6</td>\n",
              "      <td>0</td>\n",
              "      <td>7</td>\n",
              "      <td>ballet, hip hop, piano, gymnastics, cheerleadi...</td>\n",
              "    </tr>\n",
              "    <tr>\n",
              "      <th>7</th>\n",
              "      <td>7</td>\n",
              "      <td>0</td>\n",
              "      <td>8</td>\n",
              "      <td>recreation and parks: august 10, 2016 facility...</td>\n",
              "    </tr>\n",
              "    <tr>\n",
              "      <th>8</th>\n",
              "      <td>8</td>\n",
              "      <td>0</td>\n",
              "      <td>9</td>\n",
              "      <td>greater cypress park outreach committee agenda...</td>\n",
              "    </tr>\n",
              "    <tr>\n",
              "      <th>9</th>\n",
              "      <td>9</td>\n",
              "      <td>0</td>\n",
              "      <td>10</td>\n",
              "      <td>pajama storytime double feature: tail waggin' ...</td>\n",
              "    </tr>\n",
              "    <tr>\n",
              "      <th>10</th>\n",
              "      <td>10</td>\n",
              "      <td>0</td>\n",
              "      <td>11</td>\n",
              "      <td>greater wilshire nc outreach cmmtt agenda 1025...</td>\n",
              "    </tr>\n",
              "    <tr>\n",
              "      <th>11</th>\n",
              "      <td>11</td>\n",
              "      <td>0</td>\n",
              "      <td>12</td>\n",
              "      <td>kitchen divas: plant based cooking</td>\n",
              "    </tr>\n",
              "    <tr>\n",
              "      <th>12</th>\n",
              "      <td>12</td>\n",
              "      <td>0</td>\n",
              "      <td>13</td>\n",
              "      <td>all-ages hatha yoga</td>\n",
              "    </tr>\n",
              "    <tr>\n",
              "      <th>13</th>\n",
              "      <td>13</td>\n",
              "      <td>0</td>\n",
              "      <td>14</td>\n",
              "      <td>\\tnorthwest san pedro nc revised retreat</td>\n",
              "    </tr>\n",
              "    <tr>\n",
              "      <th>14</th>\n",
              "      <td>14</td>\n",
              "      <td>0</td>\n",
              "      <td>15</td>\n",
              "      <td>mvcc great streets ad hoc committee agenda</td>\n",
              "    </tr>\n",
              "    <tr>\n",
              "      <th>15</th>\n",
              "      <td>15</td>\n",
              "      <td>0</td>\n",
              "      <td>16</td>\n",
              "      <td>yoga</td>\n",
              "    </tr>\n",
              "    <tr>\n",
              "      <th>16</th>\n",
              "      <td>16</td>\n",
              "      <td>0</td>\n",
              "      <td>17</td>\n",
              "      <td>family storytime: the great outdoors</td>\n",
              "    </tr>\n",
              "    <tr>\n",
              "      <th>17</th>\n",
              "      <td>17</td>\n",
              "      <td>0</td>\n",
              "      <td>18</td>\n",
              "      <td>greater valley glen_arts &amp; education committee...</td>\n",
              "    </tr>\n",
              "    <tr>\n",
              "      <th>18</th>\n",
              "      <td>18</td>\n",
              "      <td>0</td>\n",
              "      <td>19</td>\n",
              "      <td>recreation and parks: august 10, 2016 - commis...</td>\n",
              "    </tr>\n",
              "    <tr>\n",
              "      <th>19</th>\n",
              "      <td>19</td>\n",
              "      <td>0</td>\n",
              "      <td>20</td>\n",
              "      <td>greater valley glen nc_arts &amp; educ committee a...</td>\n",
              "    </tr>\n",
              "    <tr>\n",
              "      <th>20</th>\n",
              "      <td>20</td>\n",
              "      <td>0</td>\n",
              "      <td>21</td>\n",
              "      <td>story slam theater workshop</td>\n",
              "    </tr>\n",
              "    <tr>\n",
              "      <th>21</th>\n",
              "      <td>21</td>\n",
              "      <td>1</td>\n",
              "      <td>2</td>\n",
              "      <td>summer science saturdays</td>\n",
              "    </tr>\n",
              "    <tr>\n",
              "      <th>22</th>\n",
              "      <td>22</td>\n",
              "      <td>1</td>\n",
              "      <td>3</td>\n",
              "      <td>arts and crafts</td>\n",
              "    </tr>\n",
              "    <tr>\n",
              "      <th>23</th>\n",
              "      <td>23</td>\n",
              "      <td>1</td>\n",
              "      <td>4</td>\n",
              "      <td>recreation and parks: may 18, 2016 concessions...</td>\n",
              "    </tr>\n",
              "    <tr>\n",
              "      <th>24</th>\n",
              "      <td>24</td>\n",
              "      <td>1</td>\n",
              "      <td>5</td>\n",
              "      <td>using virtual keys &amp; multitracks in worship</td>\n",
              "    </tr>\n",
              "    <tr>\n",
              "      <th>25</th>\n",
              "      <td>25</td>\n",
              "      <td>1</td>\n",
              "      <td>6</td>\n",
              "      <td>student smart: college 101 and money for college</td>\n",
              "    </tr>\n",
              "    <tr>\n",
              "      <th>26</th>\n",
              "      <td>26</td>\n",
              "      <td>1</td>\n",
              "      <td>7</td>\n",
              "      <td>great books discussion group</td>\n",
              "    </tr>\n",
              "    <tr>\n",
              "      <th>27</th>\n",
              "      <td>27</td>\n",
              "      <td>1</td>\n",
              "      <td>8</td>\n",
              "      <td>arroyo seco nc_rec-culture &amp; arts cmte_</td>\n",
              "    </tr>\n",
              "    <tr>\n",
              "      <th>28</th>\n",
              "      <td>28</td>\n",
              "      <td>1</td>\n",
              "      <td>9</td>\n",
              "      <td>steam science saturday: whales from the venice...</td>\n",
              "    </tr>\n",
              "    <tr>\n",
              "      <th>29</th>\n",
              "      <td>29</td>\n",
              "      <td>1</td>\n",
              "      <td>10</td>\n",
              "      <td>projector science</td>\n",
              "    </tr>\n",
              "  </tbody>\n",
              "</table>\n",
              "</div>"
            ],
            "text/plain": [
              "    Unnamed: 0  User1  User2  \\\n",
              "0            0      0      1   \n",
              "1            1      0      2   \n",
              "2            2      0      3   \n",
              "3            3      0      4   \n",
              "4            4      0      5   \n",
              "5            5      0      6   \n",
              "6            6      0      7   \n",
              "7            7      0      8   \n",
              "8            8      0      9   \n",
              "9            9      0     10   \n",
              "10          10      0     11   \n",
              "11          11      0     12   \n",
              "12          12      0     13   \n",
              "13          13      0     14   \n",
              "14          14      0     15   \n",
              "15          15      0     16   \n",
              "16          16      0     17   \n",
              "17          17      0     18   \n",
              "18          18      0     19   \n",
              "19          19      0     20   \n",
              "20          20      0     21   \n",
              "21          21      1      2   \n",
              "22          22      1      3   \n",
              "23          23      1      4   \n",
              "24          24      1      5   \n",
              "25          25      1      6   \n",
              "26          26      1      7   \n",
              "27          27      1      8   \n",
              "28          28      1      9   \n",
              "29          29      1     10   \n",
              "\n",
              "                                   Suggested Activity  \n",
              "0   ballet, hip hop, piano, gymnastics, cheerleadi...  \n",
              "1   ballet, hip hop, piano, gymnastics, cheerleadi...  \n",
              "2   greater valley glen nc_planning & land use com...  \n",
              "3   ballet, hip hop, piano, gymnastics, cheerleadi...  \n",
              "4                                   dahn yoga classes  \n",
              "5   ballet, hip hop, piano, gymnastics, cheerleadi...  \n",
              "6   ballet, hip hop, piano, gymnastics, cheerleadi...  \n",
              "7   recreation and parks: august 10, 2016 facility...  \n",
              "8   greater cypress park outreach committee agenda...  \n",
              "9   pajama storytime double feature: tail waggin' ...  \n",
              "10  greater wilshire nc outreach cmmtt agenda 1025...  \n",
              "11                 kitchen divas: plant based cooking  \n",
              "12                                all-ages hatha yoga  \n",
              "13           \\tnorthwest san pedro nc revised retreat  \n",
              "14         mvcc great streets ad hoc committee agenda  \n",
              "15                                               yoga  \n",
              "16               family storytime: the great outdoors  \n",
              "17  greater valley glen_arts & education committee...  \n",
              "18  recreation and parks: august 10, 2016 - commis...  \n",
              "19  greater valley glen nc_arts & educ committee a...  \n",
              "20                        story slam theater workshop  \n",
              "21                           summer science saturdays  \n",
              "22                                    arts and crafts  \n",
              "23  recreation and parks: may 18, 2016 concessions...  \n",
              "24        using virtual keys & multitracks in worship  \n",
              "25   student smart: college 101 and money for college  \n",
              "26                       great books discussion group  \n",
              "27            arroyo seco nc_rec-culture & arts cmte_  \n",
              "28  steam science saturday: whales from the venice...  \n",
              "29                                  projector science  "
            ]
          },
          "metadata": {
            "tags": []
          },
          "execution_count": 74
        }
      ]
    },
    {
      "cell_type": "code",
      "metadata": {
        "id": "KQqBG9AAKivY"
      },
      "source": [
        ""
      ],
      "execution_count": null,
      "outputs": []
    },
    {
      "cell_type": "code",
      "metadata": {
        "id": "4JS-QeTtKivY"
      },
      "source": [
        ""
      ],
      "execution_count": null,
      "outputs": []
    }
  ]
}
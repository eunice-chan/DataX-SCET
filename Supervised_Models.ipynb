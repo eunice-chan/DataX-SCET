{
  "nbformat": 4,
  "nbformat_minor": 0,
  "metadata": {
    "colab": {
      "name": "Supervised Models.ipynb",
      "provenance": [],
      "collapsed_sections": [],
      "toc_visible": true
    },
    "kernelspec": {
      "name": "python3",
      "display_name": "Python 3"
    }
  },
  "cells": [
    {
      "cell_type": "code",
      "metadata": {
        "id": "eHwpnfz5yb-j",
        "colab": {
          "base_uri": "https://localhost:8080/"
        },
        "outputId": "20906415-6d40-4600-da1e-e2c8d4a009d2"
      },
      "source": [
        "from google.colab import drive\n",
        "drive.mount('/content/drive')"
      ],
      "execution_count": null,
      "outputs": [
        {
          "output_type": "stream",
          "text": [
            "Mounted at /content/drive\n"
          ],
          "name": "stdout"
        }
      ]
    },
    {
      "cell_type": "code",
      "metadata": {
        "id": "vkt0tYYhy5Ek"
      },
      "source": [
        "import pandas as pd\n",
        "import numpy as np\n",
        "from sklearn.compose import ColumnTransformer\n",
        "from sklearn.preprocessing import OneHotEncoder\n",
        "from sklearn.svm import SVR\n",
        "from sklearn.multioutput import MultiOutputRegressor\n",
        "from sklearn.tree import DecisionTreeRegressor\n",
        "from sklearn.model_selection import train_test_split"
      ],
      "execution_count": null,
      "outputs": []
    },
    {
      "cell_type": "code",
      "metadata": {
        "id": "cb3NRbD5yw5H"
      },
      "source": [
        "base_path = '/content/drive/My Drive/SCET/Data/'\n",
        "response_path = base_path + 'SCET Friendship questionnaire (Responses) - Form Responses 1.csv'"
      ],
      "execution_count": null,
      "outputs": []
    },
    {
      "cell_type": "markdown",
      "metadata": {
        "id": "PFx-pDRVy3aU"
      },
      "source": [
        "# Import Data\n",
        "Simulating recieving 3 tables:\n",
        "1. Individual data: what each user fills out about themselves and activity enjoyment level ratings in the survey",
        "2. Activity data: if this data came from a real app (like the mockup from the presentation), this comes from after a pair of users perform an activity and rate their enjoyment level of that activity.",
        "3. Relationship data: to keep track of who is friends with who."
      ]
    },
    {
      "cell_type": "markdown",
      "metadata": {
        "id": "SD5UKXiQyoZy"
      },
      "source": [
        "## Generate Correct Tables\n",
        "Just need to run once."
      ]
    },
    {
      "cell_type": "code",
      "metadata": {
        "id": "1u0wPgIoxvI4"
      },
      "source": [
        "deleted_features = ['Favorite movie genre?', \n",
        "                    'What qualities do you look for in a friend?', \n",
        "                    'Social distance run']\n",
        "feedback_features = ['Timestamp', 'Email Address', \n",
        "                     'Any comments on the overall structure of the survey?', \n",
        "                     'Are the questions relevant to qualities you look for in a friend?', \n",
        "                     'Any suggestions on question we should be asking?', \n",
        "                     'What has been your favorite activity recently and why? ', \n",
        "                     'What are some virtual activities that you have been enjoying recently? ']\n",
        "user_features = ['Age', 'Gender', 'College major?', 'How outdoorsy are you?',\n",
        "                'When is your preferred time to hang out with friends? ',\n",
        "                'What is your preferred way of spending time with friends?',\n",
        "                'How often do you like to spend time with your friends?',\n",
        "                'How many people do you like to spend time with at once?',\n",
        "                'What is your top love language?', 'Introvert or extrovert?']\n",
        "activites_features = ['Rank these activities on how much you enjoy them? (5 is most enjoyable) [Hiking]',\n",
        "                      'Rank these activities on how much you enjoy them? (5 is most enjoyable) [Journaling]',\n",
        "                      'Rank these activities on how much you enjoy them? (5 is most enjoyable) [Reading nonfiction]',\n",
        "                      'Rank these activities on how much you enjoy them? (5 is most enjoyable) [Drawing]',\n",
        "                      'Rank these activities on how much you enjoy them? (5 is most enjoyable) [Hanging out with friends. (pre-COVID)]',\n",
        "                      'Social distance exercise (walk, run, etc.)', \n",
        "                      'Netflix party',\n",
        "                      'Video chat hangout', \n",
        "                      'Wine tasting/Cocktail shake up',\n",
        "                      'Trivia contests', \n",
        "                      'Virtual escape room', \n",
        "                      'Arts and crafts ']\n",
        "user_id = ['First Name', 'Last Name']"
      ],
      "execution_count": null,
      "outputs": []
    },
    {
      "cell_type": "code",
      "metadata": {
        "id": "hChufD8B-ct2"
      },
      "source": [
        "data = pd.read_csv(response_path)\n",
        "data['UserID'] = range(data.shape[0])\n",
        "full_data = pd.read_csv(response_path)\n",
        "full_data = full_data.drop(range(6)).drop(deleted_features, axis=1)"
      ],
      "execution_count": null,
      "outputs": []
    },
    {
      "cell_type": "code",
      "metadata": {
        "id": "48nUEcIuyNTA"
      },
      "source": [
        "names_to_id = {}\n",
        "def anonymize(data, user_id):\n",
        "  data['UserID'] = range(data.shape[0])  \n",
        "  for _, r in data[['UserID'] + user_id].iterrows():\n",
        "    names_to_id[\"{} {}\".format(r[1], r[2]).title()] = r[0]\n",
        "  return data.drop(user_id, axis=1)"
      ],
      "execution_count": null,
      "outputs": []
    },
    {
      "cell_type": "code",
      "metadata": {
        "id": "-a50_sI4y8Bl",
        "colab": {
          "base_uri": "https://localhost:8080/",
          "height": 298
        },
        "outputId": "0e9acc6e-afe7-4741-8c48-55cfcd1bc5e9"
      },
      "source": [
        "individual_data = full_data[user_id + user_features].copy()\n",
        "individual_data = anonymize(individual_data, user_id)\n",
        "individual_data.to_csv(base_path + 'individual.csv')\n",
        "individual_data.head(2)"
      ],
      "execution_count": null,
      "outputs": [
        {
          "output_type": "execute_result",
          "data": {
            "text/html": [
              "<div>\n",
              "<style scoped>\n",
              "    .dataframe tbody tr th:only-of-type {\n",
              "        vertical-align: middle;\n",
              "    }\n",
              "\n",
              "    .dataframe tbody tr th {\n",
              "        vertical-align: top;\n",
              "    }\n",
              "\n",
              "    .dataframe thead th {\n",
              "        text-align: right;\n",
              "    }\n",
              "</style>\n",
              "<table border=\"1\" class=\"dataframe\">\n",
              "  <thead>\n",
              "    <tr style=\"text-align: right;\">\n",
              "      <th></th>\n",
              "      <th>Age</th>\n",
              "      <th>Gender</th>\n",
              "      <th>College major?</th>\n",
              "      <th>How outdoorsy are you?</th>\n",
              "      <th>When is your preferred time to hang out with friends?</th>\n",
              "      <th>What is your preferred way of spending time with friends?</th>\n",
              "      <th>How often do you like to spend time with your friends?</th>\n",
              "      <th>How many people do you like to spend time with at once?</th>\n",
              "      <th>What is your top love language?</th>\n",
              "      <th>Introvert or extrovert?</th>\n",
              "      <th>UserID</th>\n",
              "    </tr>\n",
              "  </thead>\n",
              "  <tbody>\n",
              "    <tr>\n",
              "      <th>6</th>\n",
              "      <td>22</td>\n",
              "      <td>Female</td>\n",
              "      <td>Econ + Data Sci</td>\n",
              "      <td>Very outdoorsy</td>\n",
              "      <td>Weekends during the day, Weekends at night</td>\n",
              "      <td>Grabbing foods or drinks together, Doing an ac...</td>\n",
              "      <td>Once a week</td>\n",
              "      <td>The more the merrier</td>\n",
              "      <td>Quality time</td>\n",
              "      <td>Extrovert</td>\n",
              "      <td>0</td>\n",
              "    </tr>\n",
              "    <tr>\n",
              "      <th>7</th>\n",
              "      <td>20</td>\n",
              "      <td>Female</td>\n",
              "      <td>STEM</td>\n",
              "      <td>Very outdoorsy</td>\n",
              "      <td>Weekdays during the day, Weekends during the d...</td>\n",
              "      <td>Grabbing foods or drinks together, Doing an ac...</td>\n",
              "      <td>2-3 times a week</td>\n",
              "      <td>Small groups (up to 5 people)</td>\n",
              "      <td>Acts of service</td>\n",
              "      <td>Introvert</td>\n",
              "      <td>1</td>\n",
              "    </tr>\n",
              "  </tbody>\n",
              "</table>\n",
              "</div>"
            ],
            "text/plain": [
              "   Age  Gender  ... Introvert or extrovert? UserID\n",
              "6   22  Female  ...               Extrovert      0\n",
              "7   20  Female  ...               Introvert      1\n",
              "\n",
              "[2 rows x 11 columns]"
            ]
          },
          "metadata": {
            "tags": []
          },
          "execution_count": 8
        }
      ]
    },
    {
      "cell_type": "code",
      "metadata": {
        "id": "VplJVS9Dy-DD"
      },
      "source": [
        "def clean_responses(responses):\n",
        "  new_responses = []\n",
        "  for response in responses:\n",
        "    if \"[\" in response:\n",
        "      new_responses.append(response[response.index(\"[\")+1:-1])\n",
        "    else:\n",
        "      new_responses.append(response) \n",
        "  return new_responses"
      ],
      "execution_count": null,
      "outputs": []
    },
    {
      "cell_type": "code",
      "metadata": {
        "id": "IgKtLTeMGKEA",
        "colab": {
          "base_uri": "https://localhost:8080/",
          "height": 233
        },
        "outputId": "ff8d38ef-a792-4054-d185-baa850735205"
      },
      "source": [
        "individual_activity = full_data[user_id + activites_features].copy()  \n",
        "individual_activity = anonymize(individual_activity, user_id)  \n",
        "individual_activity.columns = clean_responses(individual_activity.columns)              \n",
        "print(individual_activity.shape)\n",
        "individual_activity.head(2)"
      ],
      "execution_count": null,
      "outputs": [
        {
          "output_type": "stream",
          "text": [
            "(22, 13)\n"
          ],
          "name": "stdout"
        },
        {
          "output_type": "execute_result",
          "data": {
            "text/html": [
              "<div>\n",
              "<style scoped>\n",
              "    .dataframe tbody tr th:only-of-type {\n",
              "        vertical-align: middle;\n",
              "    }\n",
              "\n",
              "    .dataframe tbody tr th {\n",
              "        vertical-align: top;\n",
              "    }\n",
              "\n",
              "    .dataframe thead th {\n",
              "        text-align: right;\n",
              "    }\n",
              "</style>\n",
              "<table border=\"1\" class=\"dataframe\">\n",
              "  <thead>\n",
              "    <tr style=\"text-align: right;\">\n",
              "      <th></th>\n",
              "      <th>Hiking</th>\n",
              "      <th>Journaling</th>\n",
              "      <th>Reading nonfiction</th>\n",
              "      <th>Drawing</th>\n",
              "      <th>Hanging out with friends. (pre-COVID)</th>\n",
              "      <th>Social distance exercise (walk, run, etc.)</th>\n",
              "      <th>Netflix party</th>\n",
              "      <th>Video chat hangout</th>\n",
              "      <th>Wine tasting/Cocktail shake up</th>\n",
              "      <th>Trivia contests</th>\n",
              "      <th>Virtual escape room</th>\n",
              "      <th>Arts and crafts</th>\n",
              "      <th>UserID</th>\n",
              "    </tr>\n",
              "  </thead>\n",
              "  <tbody>\n",
              "    <tr>\n",
              "      <th>6</th>\n",
              "      <td>5</td>\n",
              "      <td>4</td>\n",
              "      <td>3</td>\n",
              "      <td>5</td>\n",
              "      <td>5</td>\n",
              "      <td>3.0</td>\n",
              "      <td>5.0</td>\n",
              "      <td>5.0</td>\n",
              "      <td>5.0</td>\n",
              "      <td>4.0</td>\n",
              "      <td>4.0</td>\n",
              "      <td>NaN</td>\n",
              "      <td>0</td>\n",
              "    </tr>\n",
              "    <tr>\n",
              "      <th>7</th>\n",
              "      <td>5</td>\n",
              "      <td>3</td>\n",
              "      <td>2</td>\n",
              "      <td>3</td>\n",
              "      <td>5</td>\n",
              "      <td>5.0</td>\n",
              "      <td>3.0</td>\n",
              "      <td>3.0</td>\n",
              "      <td>5.0</td>\n",
              "      <td>5.0</td>\n",
              "      <td>3.0</td>\n",
              "      <td>4.0</td>\n",
              "      <td>1</td>\n",
              "    </tr>\n",
              "  </tbody>\n",
              "</table>\n",
              "</div>"
            ],
            "text/plain": [
              "   Hiking  Journaling  ...  Arts and crafts   UserID\n",
              "6       5           4  ...               NaN       0\n",
              "7       5           3  ...               4.0       1\n",
              "\n",
              "[2 rows x 13 columns]"
            ]
          },
          "metadata": {
            "tags": []
          },
          "execution_count": 10
        }
      ]
    },
    {
      "cell_type": "code",
      "metadata": {
        "id": "cMh1sjP0-Zz5"
      },
      "source": [
        "activities_list = [c for c in individual_activity.columns if c != \"UserID\"]\n",
        "user1 = []\n",
        "user2 = []\n",
        "user1_ID = []\n",
        "user2_ID = []       \n",
        "user1_enjoyment = []\n",
        "user2_enjoyment = []\n",
        "activity_col = []\n",
        "for u1 in individual_data['UserID']:\n",
        "  for u2 in individual_data['UserID']:\n",
        "    if u1 < u2:\n",
        "        user1 += [u1]\n",
        "        user2 += [u2]\n",
        "        u1_acts = individual_activity.query('UserID == {}'.format(u1))\n",
        "        u2_acts = individual_activity.query('UserID == {}'.format(u2))\n",
        "        for activity in activities_list:\n",
        "            user1_ID += [u1]\n",
        "            user2_ID += [u2]\n",
        "            user1_enjoyment += [u1_acts[activity].iloc[0]]\n",
        "            user2_enjoyment += [u2_acts[activity].iloc[0]]\n",
        "            activity_col += [activity]\n",
        "relationships = pd.DataFrame({'User1': user1, 'User2': user2})\n",
        "activities_df = pd.DataFrame({'User1_ID': user1_ID, 'User2_ID':user2_ID, \n",
        "                              'User1_Enjoyment': user1_enjoyment, 'User2_Enjoyment': user2_enjoyment, \n",
        "                              'Activity_Name': activity_col})"
      ],
      "execution_count": null,
      "outputs": []
    },
    {
      "cell_type": "code",
      "metadata": {
        "id": "CNj7gA1u-wX7",
        "colab": {
          "base_uri": "https://localhost:8080/",
          "height": 111
        },
        "outputId": "b4b913e0-eac6-441a-ffbf-4091eae3a6ae"
      },
      "source": [
        "relationships.to_csv(base_path + 'relationships.csv')\n",
        "relationships.head(2)"
      ],
      "execution_count": null,
      "outputs": [
        {
          "output_type": "execute_result",
          "data": {
            "text/html": [
              "<div>\n",
              "<style scoped>\n",
              "    .dataframe tbody tr th:only-of-type {\n",
              "        vertical-align: middle;\n",
              "    }\n",
              "\n",
              "    .dataframe tbody tr th {\n",
              "        vertical-align: top;\n",
              "    }\n",
              "\n",
              "    .dataframe thead th {\n",
              "        text-align: right;\n",
              "    }\n",
              "</style>\n",
              "<table border=\"1\" class=\"dataframe\">\n",
              "  <thead>\n",
              "    <tr style=\"text-align: right;\">\n",
              "      <th></th>\n",
              "      <th>User1</th>\n",
              "      <th>User2</th>\n",
              "    </tr>\n",
              "  </thead>\n",
              "  <tbody>\n",
              "    <tr>\n",
              "      <th>0</th>\n",
              "      <td>0</td>\n",
              "      <td>1</td>\n",
              "    </tr>\n",
              "    <tr>\n",
              "      <th>1</th>\n",
              "      <td>0</td>\n",
              "      <td>2</td>\n",
              "    </tr>\n",
              "  </tbody>\n",
              "</table>\n",
              "</div>"
            ],
            "text/plain": [
              "   User1  User2\n",
              "0      0      1\n",
              "1      0      2"
            ]
          },
          "metadata": {
            "tags": []
          },
          "execution_count": 12
        }
      ]
    },
    {
      "cell_type": "code",
      "metadata": {
        "id": "xJ5Vg2CUGt8p",
        "colab": {
          "base_uri": "https://localhost:8080/",
          "height": 111
        },
        "outputId": "459de73a-4a16-4f4a-df1c-e60d67dbe215"
      },
      "source": [
        "activities_df.to_csv(base_path + 'activities.csv')\n",
        "activities_df.tail(2)"
      ],
      "execution_count": null,
      "outputs": [
        {
          "output_type": "execute_result",
          "data": {
            "text/html": [
              "<div>\n",
              "<style scoped>\n",
              "    .dataframe tbody tr th:only-of-type {\n",
              "        vertical-align: middle;\n",
              "    }\n",
              "\n",
              "    .dataframe tbody tr th {\n",
              "        vertical-align: top;\n",
              "    }\n",
              "\n",
              "    .dataframe thead th {\n",
              "        text-align: right;\n",
              "    }\n",
              "</style>\n",
              "<table border=\"1\" class=\"dataframe\">\n",
              "  <thead>\n",
              "    <tr style=\"text-align: right;\">\n",
              "      <th></th>\n",
              "      <th>User1_ID</th>\n",
              "      <th>User2_ID</th>\n",
              "      <th>User1_Enjoyment</th>\n",
              "      <th>User2_Enjoyment</th>\n",
              "      <th>Activity_Name</th>\n",
              "    </tr>\n",
              "  </thead>\n",
              "  <tbody>\n",
              "    <tr>\n",
              "      <th>2770</th>\n",
              "      <td>20</td>\n",
              "      <td>21</td>\n",
              "      <td>2.0</td>\n",
              "      <td>3.0</td>\n",
              "      <td>Virtual escape room</td>\n",
              "    </tr>\n",
              "    <tr>\n",
              "      <th>2771</th>\n",
              "      <td>20</td>\n",
              "      <td>21</td>\n",
              "      <td>3.0</td>\n",
              "      <td>3.0</td>\n",
              "      <td>Arts and crafts</td>\n",
              "    </tr>\n",
              "  </tbody>\n",
              "</table>\n",
              "</div>"
            ],
            "text/plain": [
              "      User1_ID  User2_ID  User1_Enjoyment  User2_Enjoyment        Activity_Name\n",
              "2770        20        21              2.0              3.0  Virtual escape room\n",
              "2771        20        21              3.0              3.0     Arts and crafts "
            ]
          },
          "metadata": {
            "tags": []
          },
          "execution_count": 13
        }
      ]
    },
    {
      "cell_type": "markdown",
      "metadata": {
        "id": "3Vw7QvmEysWu"
      },
      "source": [
        "## Read CSV\n",
        "Instead of creating them."
      ]
    },
    {
      "cell_type": "code",
      "metadata": {
        "id": "H-mzowEfA_RC"
      },
      "source": [
        "individual_data = pd.read_csv(base_path+'individual.csv')\n",
        "relationships_df = pd.read_csv(base_path + 'relationships.csv')\n",
        "activities_df = pd.read_csv(base_path + 'activities.csv')"
      ],
      "execution_count": null,
      "outputs": []
    },
    {
      "cell_type": "markdown",
      "metadata": {
        "id": "uSIsDh7G0Cn9"
      },
      "source": [
        "# Preprocessing"
      ]
    },
    {
      "cell_type": "markdown",
      "metadata": {
        "id": "ALaqh76b6R1q"
      },
      "source": [
        "## Preprocessing Group Data"
      ]
    },
    {
      "cell_type": "code",
      "metadata": {
        "id": "J9K5lGvODkfm",
        "colab": {
          "base_uri": "https://localhost:8080/",
          "height": 488
        },
        "outputId": "61d9b3a1-36b0-40ed-a9bb-01c7906827c0"
      },
      "source": [
        "relationship_data_extended = relationships.merge(individual_data, left_on='User1', right_on='UserID').merge(individual_data, left_on='User2', right_on='UserID').drop(columns=['User1', 'User2'])\n",
        "relationship_data_extended.tail(2)"
      ],
      "execution_count": null,
      "outputs": [
        {
          "output_type": "execute_result",
          "data": {
            "text/html": [
              "<div>\n",
              "<style scoped>\n",
              "    .dataframe tbody tr th:only-of-type {\n",
              "        vertical-align: middle;\n",
              "    }\n",
              "\n",
              "    .dataframe tbody tr th {\n",
              "        vertical-align: top;\n",
              "    }\n",
              "\n",
              "    .dataframe thead th {\n",
              "        text-align: right;\n",
              "    }\n",
              "</style>\n",
              "<table border=\"1\" class=\"dataframe\">\n",
              "  <thead>\n",
              "    <tr style=\"text-align: right;\">\n",
              "      <th></th>\n",
              "      <th>Unnamed: 0_x</th>\n",
              "      <th>Age_x</th>\n",
              "      <th>Gender_x</th>\n",
              "      <th>College major?_x</th>\n",
              "      <th>How outdoorsy are you?_x</th>\n",
              "      <th>When is your preferred time to hang out with friends? _x</th>\n",
              "      <th>What is your preferred way of spending time with friends?_x</th>\n",
              "      <th>How often do you like to spend time with your friends?_x</th>\n",
              "      <th>How many people do you like to spend time with at once?_x</th>\n",
              "      <th>What is your top love language?_x</th>\n",
              "      <th>Introvert or extrovert?_x</th>\n",
              "      <th>UserID_x</th>\n",
              "      <th>Unnamed: 0_y</th>\n",
              "      <th>Age_y</th>\n",
              "      <th>Gender_y</th>\n",
              "      <th>College major?_y</th>\n",
              "      <th>How outdoorsy are you?_y</th>\n",
              "      <th>When is your preferred time to hang out with friends? _y</th>\n",
              "      <th>What is your preferred way of spending time with friends?_y</th>\n",
              "      <th>How often do you like to spend time with your friends?_y</th>\n",
              "      <th>How many people do you like to spend time with at once?_y</th>\n",
              "      <th>What is your top love language?_y</th>\n",
              "      <th>Introvert or extrovert?_y</th>\n",
              "      <th>UserID_y</th>\n",
              "    </tr>\n",
              "  </thead>\n",
              "  <tbody>\n",
              "    <tr>\n",
              "      <th>229</th>\n",
              "      <td>25</td>\n",
              "      <td>21</td>\n",
              "      <td>Male</td>\n",
              "      <td>STEM</td>\n",
              "      <td>Very outdoorsy</td>\n",
              "      <td>Weekdays at night, Weekends during the day, We...</td>\n",
              "      <td>Grabbing foods or drinks together, Doing an ac...</td>\n",
              "      <td>Everyday</td>\n",
              "      <td>Small groups (up to 5 people)</td>\n",
              "      <td>Physical touch</td>\n",
              "      <td>Introvert</td>\n",
              "      <td>19</td>\n",
              "      <td>27</td>\n",
              "      <td>19</td>\n",
              "      <td>Male</td>\n",
              "      <td>STEM</td>\n",
              "      <td>Somewhat outdoorsy</td>\n",
              "      <td>Weekends at night</td>\n",
              "      <td>Doing an activity or exploring, Playing sport,...</td>\n",
              "      <td>2-3 times a week</td>\n",
              "      <td>Small groups (up to 5 people)</td>\n",
              "      <td>Physical touch</td>\n",
              "      <td>Introvert</td>\n",
              "      <td>21</td>\n",
              "    </tr>\n",
              "    <tr>\n",
              "      <th>230</th>\n",
              "      <td>26</td>\n",
              "      <td>20</td>\n",
              "      <td>Female</td>\n",
              "      <td>STEM</td>\n",
              "      <td>Somewhat outdoorsy</td>\n",
              "      <td>Weekdays during the day, Weekdays at night, We...</td>\n",
              "      <td>Grabbing foods or drinks together, Doing an ac...</td>\n",
              "      <td>2-3 times a week</td>\n",
              "      <td>Small groups (up to 5 people)</td>\n",
              "      <td>Quality time</td>\n",
              "      <td>Introvert</td>\n",
              "      <td>20</td>\n",
              "      <td>27</td>\n",
              "      <td>19</td>\n",
              "      <td>Male</td>\n",
              "      <td>STEM</td>\n",
              "      <td>Somewhat outdoorsy</td>\n",
              "      <td>Weekends at night</td>\n",
              "      <td>Doing an activity or exploring, Playing sport,...</td>\n",
              "      <td>2-3 times a week</td>\n",
              "      <td>Small groups (up to 5 people)</td>\n",
              "      <td>Physical touch</td>\n",
              "      <td>Introvert</td>\n",
              "      <td>21</td>\n",
              "    </tr>\n",
              "  </tbody>\n",
              "</table>\n",
              "</div>"
            ],
            "text/plain": [
              "     Unnamed: 0_x  Age_x  ... Introvert or extrovert?_y UserID_y\n",
              "229            25     21  ...                 Introvert       21\n",
              "230            26     20  ...                 Introvert       21\n",
              "\n",
              "[2 rows x 24 columns]"
            ]
          },
          "metadata": {
            "tags": []
          },
          "execution_count": 15
        }
      ]
    },
    {
      "cell_type": "code",
      "metadata": {
        "id": "Wt2NMTl81_A1",
        "colab": {
          "base_uri": "https://localhost:8080/",
          "height": 488
        },
        "outputId": "bd61dc33-8596-406c-b551-b375e78e2a60"
      },
      "source": [
        "full_relationship_data = relationship_data_extended.merge(activities_df, left_on=['UserID_x', 'UserID_y'], right_on=['User1_ID', 'User2_ID'])\n",
        "full_relationship_data.tail(2)"
      ],
      "execution_count": null,
      "outputs": [
        {
          "output_type": "execute_result",
          "data": {
            "text/html": [
              "<div>\n",
              "<style scoped>\n",
              "    .dataframe tbody tr th:only-of-type {\n",
              "        vertical-align: middle;\n",
              "    }\n",
              "\n",
              "    .dataframe tbody tr th {\n",
              "        vertical-align: top;\n",
              "    }\n",
              "\n",
              "    .dataframe thead th {\n",
              "        text-align: right;\n",
              "    }\n",
              "</style>\n",
              "<table border=\"1\" class=\"dataframe\">\n",
              "  <thead>\n",
              "    <tr style=\"text-align: right;\">\n",
              "      <th></th>\n",
              "      <th>Unnamed: 0_x</th>\n",
              "      <th>Age_x</th>\n",
              "      <th>Gender_x</th>\n",
              "      <th>College major?_x</th>\n",
              "      <th>How outdoorsy are you?_x</th>\n",
              "      <th>When is your preferred time to hang out with friends? _x</th>\n",
              "      <th>What is your preferred way of spending time with friends?_x</th>\n",
              "      <th>How often do you like to spend time with your friends?_x</th>\n",
              "      <th>How many people do you like to spend time with at once?_x</th>\n",
              "      <th>What is your top love language?_x</th>\n",
              "      <th>Introvert or extrovert?_x</th>\n",
              "      <th>UserID_x</th>\n",
              "      <th>Unnamed: 0_y</th>\n",
              "      <th>Age_y</th>\n",
              "      <th>Gender_y</th>\n",
              "      <th>College major?_y</th>\n",
              "      <th>How outdoorsy are you?_y</th>\n",
              "      <th>When is your preferred time to hang out with friends? _y</th>\n",
              "      <th>What is your preferred way of spending time with friends?_y</th>\n",
              "      <th>How often do you like to spend time with your friends?_y</th>\n",
              "      <th>How many people do you like to spend time with at once?_y</th>\n",
              "      <th>What is your top love language?_y</th>\n",
              "      <th>Introvert or extrovert?_y</th>\n",
              "      <th>UserID_y</th>\n",
              "      <th>Unnamed: 0</th>\n",
              "      <th>User1_ID</th>\n",
              "      <th>User2_ID</th>\n",
              "      <th>User1_Enjoyment</th>\n",
              "      <th>User2_Enjoyment</th>\n",
              "      <th>Activity_Name</th>\n",
              "    </tr>\n",
              "  </thead>\n",
              "  <tbody>\n",
              "    <tr>\n",
              "      <th>2770</th>\n",
              "      <td>26</td>\n",
              "      <td>20</td>\n",
              "      <td>Female</td>\n",
              "      <td>STEM</td>\n",
              "      <td>Somewhat outdoorsy</td>\n",
              "      <td>Weekdays during the day, Weekdays at night, We...</td>\n",
              "      <td>Grabbing foods or drinks together, Doing an ac...</td>\n",
              "      <td>2-3 times a week</td>\n",
              "      <td>Small groups (up to 5 people)</td>\n",
              "      <td>Quality time</td>\n",
              "      <td>Introvert</td>\n",
              "      <td>20</td>\n",
              "      <td>27</td>\n",
              "      <td>19</td>\n",
              "      <td>Male</td>\n",
              "      <td>STEM</td>\n",
              "      <td>Somewhat outdoorsy</td>\n",
              "      <td>Weekends at night</td>\n",
              "      <td>Doing an activity or exploring, Playing sport,...</td>\n",
              "      <td>2-3 times a week</td>\n",
              "      <td>Small groups (up to 5 people)</td>\n",
              "      <td>Physical touch</td>\n",
              "      <td>Introvert</td>\n",
              "      <td>21</td>\n",
              "      <td>2770</td>\n",
              "      <td>20</td>\n",
              "      <td>21</td>\n",
              "      <td>2.0</td>\n",
              "      <td>3.0</td>\n",
              "      <td>Virtual escape room</td>\n",
              "    </tr>\n",
              "    <tr>\n",
              "      <th>2771</th>\n",
              "      <td>26</td>\n",
              "      <td>20</td>\n",
              "      <td>Female</td>\n",
              "      <td>STEM</td>\n",
              "      <td>Somewhat outdoorsy</td>\n",
              "      <td>Weekdays during the day, Weekdays at night, We...</td>\n",
              "      <td>Grabbing foods or drinks together, Doing an ac...</td>\n",
              "      <td>2-3 times a week</td>\n",
              "      <td>Small groups (up to 5 people)</td>\n",
              "      <td>Quality time</td>\n",
              "      <td>Introvert</td>\n",
              "      <td>20</td>\n",
              "      <td>27</td>\n",
              "      <td>19</td>\n",
              "      <td>Male</td>\n",
              "      <td>STEM</td>\n",
              "      <td>Somewhat outdoorsy</td>\n",
              "      <td>Weekends at night</td>\n",
              "      <td>Doing an activity or exploring, Playing sport,...</td>\n",
              "      <td>2-3 times a week</td>\n",
              "      <td>Small groups (up to 5 people)</td>\n",
              "      <td>Physical touch</td>\n",
              "      <td>Introvert</td>\n",
              "      <td>21</td>\n",
              "      <td>2771</td>\n",
              "      <td>20</td>\n",
              "      <td>21</td>\n",
              "      <td>3.0</td>\n",
              "      <td>3.0</td>\n",
              "      <td>Arts and crafts</td>\n",
              "    </tr>\n",
              "  </tbody>\n",
              "</table>\n",
              "</div>"
            ],
            "text/plain": [
              "      Unnamed: 0_x  Age_x  ... User2_Enjoyment        Activity_Name\n",
              "2770            26     20  ...             3.0  Virtual escape room\n",
              "2771            26     20  ...             3.0     Arts and crafts \n",
              "\n",
              "[2 rows x 30 columns]"
            ]
          },
          "metadata": {
            "tags": []
          },
          "execution_count": 16
        }
      ]
    },
    {
      "cell_type": "markdown",
      "metadata": {
        "id": "HxcRaUx5NOXX"
      },
      "source": [
        "# Input Data"
      ]
    },
    {
      "cell_type": "code",
      "metadata": {
        "id": "eUK522Y-NRCF",
        "colab": {
          "base_uri": "https://localhost:8080/",
          "height": 505
        },
        "outputId": "9ecb13bc-f898-4dac-a924-6d509fe3e8ef"
      },
      "source": [
        "X = full_relationship_data.drop(columns=['UserID_x', 'UserID_y', 'User1_ID', 'User2_ID', 'Activity_Name'])\n",
        "print(X.shape)\n",
        "X.head(2)"
      ],
      "execution_count": null,
      "outputs": [
        {
          "output_type": "stream",
          "text": [
            "(2772, 25)\n"
          ],
          "name": "stdout"
        },
        {
          "output_type": "execute_result",
          "data": {
            "text/html": [
              "<div>\n",
              "<style scoped>\n",
              "    .dataframe tbody tr th:only-of-type {\n",
              "        vertical-align: middle;\n",
              "    }\n",
              "\n",
              "    .dataframe tbody tr th {\n",
              "        vertical-align: top;\n",
              "    }\n",
              "\n",
              "    .dataframe thead th {\n",
              "        text-align: right;\n",
              "    }\n",
              "</style>\n",
              "<table border=\"1\" class=\"dataframe\">\n",
              "  <thead>\n",
              "    <tr style=\"text-align: right;\">\n",
              "      <th></th>\n",
              "      <th>Unnamed: 0_x</th>\n",
              "      <th>Age_x</th>\n",
              "      <th>Gender_x</th>\n",
              "      <th>College major?_x</th>\n",
              "      <th>How outdoorsy are you?_x</th>\n",
              "      <th>When is your preferred time to hang out with friends? _x</th>\n",
              "      <th>What is your preferred way of spending time with friends?_x</th>\n",
              "      <th>How often do you like to spend time with your friends?_x</th>\n",
              "      <th>How many people do you like to spend time with at once?_x</th>\n",
              "      <th>What is your top love language?_x</th>\n",
              "      <th>Introvert or extrovert?_x</th>\n",
              "      <th>Unnamed: 0_y</th>\n",
              "      <th>Age_y</th>\n",
              "      <th>Gender_y</th>\n",
              "      <th>College major?_y</th>\n",
              "      <th>How outdoorsy are you?_y</th>\n",
              "      <th>When is your preferred time to hang out with friends? _y</th>\n",
              "      <th>What is your preferred way of spending time with friends?_y</th>\n",
              "      <th>How often do you like to spend time with your friends?_y</th>\n",
              "      <th>How many people do you like to spend time with at once?_y</th>\n",
              "      <th>What is your top love language?_y</th>\n",
              "      <th>Introvert or extrovert?_y</th>\n",
              "      <th>Unnamed: 0</th>\n",
              "      <th>User1_Enjoyment</th>\n",
              "      <th>User2_Enjoyment</th>\n",
              "    </tr>\n",
              "  </thead>\n",
              "  <tbody>\n",
              "    <tr>\n",
              "      <th>0</th>\n",
              "      <td>6</td>\n",
              "      <td>22</td>\n",
              "      <td>Female</td>\n",
              "      <td>Econ + Data Sci</td>\n",
              "      <td>Very outdoorsy</td>\n",
              "      <td>Weekends during the day, Weekends at night</td>\n",
              "      <td>Grabbing foods or drinks together, Doing an ac...</td>\n",
              "      <td>Once a week</td>\n",
              "      <td>The more the merrier</td>\n",
              "      <td>Quality time</td>\n",
              "      <td>Extrovert</td>\n",
              "      <td>7</td>\n",
              "      <td>20</td>\n",
              "      <td>Female</td>\n",
              "      <td>STEM</td>\n",
              "      <td>Very outdoorsy</td>\n",
              "      <td>Weekdays during the day, Weekends during the d...</td>\n",
              "      <td>Grabbing foods or drinks together, Doing an ac...</td>\n",
              "      <td>2-3 times a week</td>\n",
              "      <td>Small groups (up to 5 people)</td>\n",
              "      <td>Acts of service</td>\n",
              "      <td>Introvert</td>\n",
              "      <td>0</td>\n",
              "      <td>5.0</td>\n",
              "      <td>5.0</td>\n",
              "    </tr>\n",
              "    <tr>\n",
              "      <th>1</th>\n",
              "      <td>6</td>\n",
              "      <td>22</td>\n",
              "      <td>Female</td>\n",
              "      <td>Econ + Data Sci</td>\n",
              "      <td>Very outdoorsy</td>\n",
              "      <td>Weekends during the day, Weekends at night</td>\n",
              "      <td>Grabbing foods or drinks together, Doing an ac...</td>\n",
              "      <td>Once a week</td>\n",
              "      <td>The more the merrier</td>\n",
              "      <td>Quality time</td>\n",
              "      <td>Extrovert</td>\n",
              "      <td>7</td>\n",
              "      <td>20</td>\n",
              "      <td>Female</td>\n",
              "      <td>STEM</td>\n",
              "      <td>Very outdoorsy</td>\n",
              "      <td>Weekdays during the day, Weekends during the d...</td>\n",
              "      <td>Grabbing foods or drinks together, Doing an ac...</td>\n",
              "      <td>2-3 times a week</td>\n",
              "      <td>Small groups (up to 5 people)</td>\n",
              "      <td>Acts of service</td>\n",
              "      <td>Introvert</td>\n",
              "      <td>1</td>\n",
              "      <td>4.0</td>\n",
              "      <td>3.0</td>\n",
              "    </tr>\n",
              "  </tbody>\n",
              "</table>\n",
              "</div>"
            ],
            "text/plain": [
              "   Unnamed: 0_x  Age_x Gender_x  ... Unnamed: 0 User1_Enjoyment User2_Enjoyment\n",
              "0             6     22   Female  ...          0             5.0             5.0\n",
              "1             6     22   Female  ...          1             4.0             3.0\n",
              "\n",
              "[2 rows x 25 columns]"
            ]
          },
          "metadata": {
            "tags": []
          },
          "execution_count": 17
        }
      ]
    },
    {
      "cell_type": "code",
      "metadata": {
        "id": "1mZxX5M-RN5D"
      },
      "source": [
        "def preprocess(data):\n",
        "  columns = list(data.columns)\n",
        "  individual_columns = ['When is your preferred time to hang out with friends? ', \n",
        "                      'What is your preferred way of spending time with friends?',\n",
        "                      'How often do you like to spend time with your friends?',\n",
        "                      'How many people do you like to spend time with at once?',\n",
        "                      'What is your top love language?', 'How outdoorsy are you?',\n",
        "                      'Introvert or extrovert?']\n",
        "  indices = []\n",
        "  for col in individual_columns:\n",
        "    indices += [columns.index(col + '_x')]\n",
        "    indices += [columns.index(col + '_y')]\n",
        "  data_pipeline = ColumnTransformer([\n",
        "      ('categorical', OneHotEncoder(), indices),\n",
        "      \n",
        "  ])\n",
        "  return data_pipeline.fit_transform(data)"
      ],
      "execution_count": null,
      "outputs": []
    },
    {
      "cell_type": "code",
      "metadata": {
        "id": "JizRZRCIO_Yg",
        "colab": {
          "base_uri": "https://localhost:8080/"
        },
        "outputId": "4f96d1c7-b847-41b0-b657-30d481bbbf91"
      },
      "source": [
        "X = preprocess(X)\n",
        "X"
      ],
      "execution_count": null,
      "outputs": [
        {
          "output_type": "execute_result",
          "data": {
            "text/plain": [
              "<2772x71 sparse matrix of type '<class 'numpy.float64'>'\n",
              "\twith 38808 stored elements in Compressed Sparse Row format>"
            ]
          },
          "metadata": {
            "tags": []
          },
          "execution_count": 19
        }
      ]
    },
    {
      "cell_type": "markdown",
      "metadata": {
        "id": "5LDU91fWNPlj"
      },
      "source": [
        "# Output Data"
      ]
    },
    {
      "cell_type": "code",
      "metadata": {
        "id": "xTdNq4wlYnKn",
        "colab": {
          "base_uri": "https://localhost:8080/"
        },
        "outputId": "031a13a1-3bf5-4eb7-e736-db1cf2958abd"
      },
      "source": [
        "activities_list"
      ],
      "execution_count": null,
      "outputs": [
        {
          "output_type": "execute_result",
          "data": {
            "text/plain": [
              "['Hiking',\n",
              " 'Journaling',\n",
              " 'Reading nonfiction',\n",
              " 'Drawing',\n",
              " 'Hanging out with friends. (pre-COVID)',\n",
              " 'Social distance exercise (walk, run, etc.)',\n",
              " 'Netflix party',\n",
              " 'Video chat hangout',\n",
              " 'Wine tasting/Cocktail shake up',\n",
              " 'Trivia contests',\n",
              " 'Virtual escape room',\n",
              " 'Arts and crafts ']"
            ]
          },
          "metadata": {
            "tags": []
          },
          "execution_count": 20
        }
      ]
    },
    {
      "cell_type": "code",
      "metadata": {
        "id": "3dVCtmXiXd-N"
      },
      "source": [
        "activity_to_features = {\n",
        "  'HIKING':[1, 1, 1, 0, 0, 1, 1, 0],\n",
        "  'JOURNALING':[0, 0, 1, 1, 1, 0, 0, 0],\n",
        "  'READING NONFICTION':[0, 0, 1, 1, 0, 0, 0, 0],\n",
        "  'DRAWING':[0, 0, 1, 0, 1, 0, 0, 0],\n",
        "  'HANGING OUT WITH FRIENDS. (PRE-COVID)':[1, 1, 1, 0, 0, 1, 1, 1],\n",
        "  'SOCIAL DISTANCE EXERCISE (WALK, RUN, ETC.)':[1, 1, 1, 0, 0, 1, 1, 0],\n",
        "  'NETFLIX PARTY':[0, 0, 0, 0, 1, 1, 0, 0],\n",
        "  'VIDEO CHAT HANGOUT':[0, 0, 1, 0, 0, 1, 1, 0],\n",
        "  'WINE TASTING/COCKTAIL SHAKE UP':[0, 0, 1, 0, 1, 1, 1, 1],\n",
        "  'TRIVIA CONTESTS':[0, 0, 0, 0, 1, 1, 1, 0],\n",
        "  'VIRTUAL ESCAPE ROOM':[0, 0, 1, 0, 1, 1, 1, 0],\n",
        "  'ARTS AND CRAFTS':[0, 0, 1, 0, 1, 1, 0, 0]\n",
        "}\n",
        "\n",
        "suggestions_from_features = {\n",
        "  'PICNIC':[1, 0, 1, 0, 1, 1, 1, 1],\n",
        "  'GROUP GAMES (AMONG US, CODE NAMES, ETC.)':[0, 0, 0, 0, 1, 1, 1, 0],\n",
        "  'GRABBING FOOD OR DRINKS TOGETHER':[1, 0, 0, 0, 0, 0, 1, 1],\n",
        "  'STUDY TOGETHER':[0, 0, 0, 1, 0, 1, 0, 0],\n",
        "  'VIDEO GAMES':[0, 0, 0, 0, 1, 1, 1, 0],\n",
        "  'COOKING/BAKING CLASS':[0, 0, 1, 0, 1, 1, 1, 1],\n",
        "  'PAINTING SOCIAL':[1, 0, 0, 0, 1, 1, 1, 0],\n",
        "  'BOOK CLUB':[0, 0, 0, 1, 1, 1, 1, 0],\n",
        "  'KARAOKE':[0, 0, 0, 0, 1, 1, 1, 0],\n",
        "  'COOKING/BAKING COMPETITION':[0, 0, 1, 0, 1, 1, 1, 1],\n",
        "  'WORKOUT SESSION':[1, 1, 1, 0, 0, 1, 0, 0],\n",
        "  'SELF-CARE SHEET MASK + TEA SESSION':[0, 0, 1, 0, 1, 0, 1, 1],\n",
        "  'ONLINE SHOPPING SESSION':[0, 0, 0, 0, 1, 1, 0, 0]\n",
        "}\n"
      ],
      "execution_count": null,
      "outputs": []
    },
    {
      "cell_type": "code",
      "metadata": {
        "id": "yaid7RkCyziz",
        "colab": {
          "base_uri": "https://localhost:8080/",
          "height": 419
        },
        "outputId": "5d8736ed-4911-4aeb-b87f-277c2136a94a"
      },
      "source": [
        "y = pd.DataFrame(np.array([activity_to_features[a.strip().upper()] for a in full_relationship_data['Activity_Name']]))\n",
        "y"
      ],
      "execution_count": null,
      "outputs": [
        {
          "output_type": "execute_result",
          "data": {
            "text/html": [
              "<div>\n",
              "<style scoped>\n",
              "    .dataframe tbody tr th:only-of-type {\n",
              "        vertical-align: middle;\n",
              "    }\n",
              "\n",
              "    .dataframe tbody tr th {\n",
              "        vertical-align: top;\n",
              "    }\n",
              "\n",
              "    .dataframe thead th {\n",
              "        text-align: right;\n",
              "    }\n",
              "</style>\n",
              "<table border=\"1\" class=\"dataframe\">\n",
              "  <thead>\n",
              "    <tr style=\"text-align: right;\">\n",
              "      <th></th>\n",
              "      <th>0</th>\n",
              "      <th>1</th>\n",
              "      <th>2</th>\n",
              "      <th>3</th>\n",
              "      <th>4</th>\n",
              "      <th>5</th>\n",
              "      <th>6</th>\n",
              "      <th>7</th>\n",
              "    </tr>\n",
              "  </thead>\n",
              "  <tbody>\n",
              "    <tr>\n",
              "      <th>0</th>\n",
              "      <td>1</td>\n",
              "      <td>1</td>\n",
              "      <td>1</td>\n",
              "      <td>0</td>\n",
              "      <td>0</td>\n",
              "      <td>1</td>\n",
              "      <td>1</td>\n",
              "      <td>0</td>\n",
              "    </tr>\n",
              "    <tr>\n",
              "      <th>1</th>\n",
              "      <td>0</td>\n",
              "      <td>0</td>\n",
              "      <td>1</td>\n",
              "      <td>1</td>\n",
              "      <td>1</td>\n",
              "      <td>0</td>\n",
              "      <td>0</td>\n",
              "      <td>0</td>\n",
              "    </tr>\n",
              "    <tr>\n",
              "      <th>2</th>\n",
              "      <td>0</td>\n",
              "      <td>0</td>\n",
              "      <td>1</td>\n",
              "      <td>1</td>\n",
              "      <td>0</td>\n",
              "      <td>0</td>\n",
              "      <td>0</td>\n",
              "      <td>0</td>\n",
              "    </tr>\n",
              "    <tr>\n",
              "      <th>3</th>\n",
              "      <td>0</td>\n",
              "      <td>0</td>\n",
              "      <td>1</td>\n",
              "      <td>0</td>\n",
              "      <td>1</td>\n",
              "      <td>0</td>\n",
              "      <td>0</td>\n",
              "      <td>0</td>\n",
              "    </tr>\n",
              "    <tr>\n",
              "      <th>4</th>\n",
              "      <td>1</td>\n",
              "      <td>1</td>\n",
              "      <td>1</td>\n",
              "      <td>0</td>\n",
              "      <td>0</td>\n",
              "      <td>1</td>\n",
              "      <td>1</td>\n",
              "      <td>1</td>\n",
              "    </tr>\n",
              "    <tr>\n",
              "      <th>...</th>\n",
              "      <td>...</td>\n",
              "      <td>...</td>\n",
              "      <td>...</td>\n",
              "      <td>...</td>\n",
              "      <td>...</td>\n",
              "      <td>...</td>\n",
              "      <td>...</td>\n",
              "      <td>...</td>\n",
              "    </tr>\n",
              "    <tr>\n",
              "      <th>2767</th>\n",
              "      <td>0</td>\n",
              "      <td>0</td>\n",
              "      <td>1</td>\n",
              "      <td>0</td>\n",
              "      <td>0</td>\n",
              "      <td>1</td>\n",
              "      <td>1</td>\n",
              "      <td>0</td>\n",
              "    </tr>\n",
              "    <tr>\n",
              "      <th>2768</th>\n",
              "      <td>0</td>\n",
              "      <td>0</td>\n",
              "      <td>1</td>\n",
              "      <td>0</td>\n",
              "      <td>1</td>\n",
              "      <td>1</td>\n",
              "      <td>1</td>\n",
              "      <td>1</td>\n",
              "    </tr>\n",
              "    <tr>\n",
              "      <th>2769</th>\n",
              "      <td>0</td>\n",
              "      <td>0</td>\n",
              "      <td>0</td>\n",
              "      <td>0</td>\n",
              "      <td>1</td>\n",
              "      <td>1</td>\n",
              "      <td>1</td>\n",
              "      <td>0</td>\n",
              "    </tr>\n",
              "    <tr>\n",
              "      <th>2770</th>\n",
              "      <td>0</td>\n",
              "      <td>0</td>\n",
              "      <td>1</td>\n",
              "      <td>0</td>\n",
              "      <td>1</td>\n",
              "      <td>1</td>\n",
              "      <td>1</td>\n",
              "      <td>0</td>\n",
              "    </tr>\n",
              "    <tr>\n",
              "      <th>2771</th>\n",
              "      <td>0</td>\n",
              "      <td>0</td>\n",
              "      <td>1</td>\n",
              "      <td>0</td>\n",
              "      <td>1</td>\n",
              "      <td>1</td>\n",
              "      <td>0</td>\n",
              "      <td>0</td>\n",
              "    </tr>\n",
              "  </tbody>\n",
              "</table>\n",
              "<p>2772 rows × 8 columns</p>\n",
              "</div>"
            ],
            "text/plain": [
              "      0  1  2  3  4  5  6  7\n",
              "0     1  1  1  0  0  1  1  0\n",
              "1     0  0  1  1  1  0  0  0\n",
              "2     0  0  1  1  0  0  0  0\n",
              "3     0  0  1  0  1  0  0  0\n",
              "4     1  1  1  0  0  1  1  1\n",
              "...  .. .. .. .. .. .. .. ..\n",
              "2767  0  0  1  0  0  1  1  0\n",
              "2768  0  0  1  0  1  1  1  1\n",
              "2769  0  0  0  0  1  1  1  0\n",
              "2770  0  0  1  0  1  1  1  0\n",
              "2771  0  0  1  0  1  1  0  0\n",
              "\n",
              "[2772 rows x 8 columns]"
            ]
          },
          "metadata": {
            "tags": []
          },
          "execution_count": 31
        }
      ]
    },
    {
      "cell_type": "markdown",
      "metadata": {
        "id": "eEcoJ_guBEhm"
      },
      "source": [
        "# Train-Val-Test Split"
      ]
    },
    {
      "cell_type": "code",
      "metadata": {
        "id": "H_gKN6uTS-o3"
      },
      "source": [
        "seed = 135"
      ],
      "execution_count": null,
      "outputs": []
    },
    {
      "cell_type": "code",
      "metadata": {
        "id": "FEG8sv_mBA9o",
        "colab": {
          "base_uri": "https://localhost:8080/"
        },
        "outputId": "86ae78ad-ff32-4163-b22d-a92547f5b99d"
      },
      "source": [
        "X_train, X_test, y_train, y_test = train_test_split(X, y, test_size=0.2, random_state=seed)\n",
        "X_train, X_val, y_train, y_val = train_test_split(X_train, y_train, test_size=0.25, random_state=seed)\n",
        "print(\"Train:      \", X_train.shape, y_train.shape)\n",
        "print(\"Validation: \", X_val.shape, y_val.shape)\n",
        "print(\"Test:       \", X_test.shape, y_test.shape)"
      ],
      "execution_count": null,
      "outputs": [
        {
          "output_type": "stream",
          "text": [
            "Train:       (1662, 71) (1662, 8)\n",
            "Validation:  (555, 71) (555, 8)\n",
            "Test:        (555, 71) (555, 8)\n"
          ],
          "name": "stdout"
        }
      ]
    },
    {
      "cell_type": "markdown",
      "metadata": {
        "id": "QijJByO7AT50"
      },
      "source": [
        "# ML Model\n",
        "1. Support Vector Regression\n",
        "2. Decision Tree Regression"
      ]
    },
    {
      "cell_type": "code",
      "metadata": {
        "id": "96Eidd4zGf2Y"
      },
      "source": [
        "max_iter = 10000"
      ],
      "execution_count": null,
      "outputs": []
    },
    {
      "cell_type": "code",
      "metadata": {
        "id": "mCAcMYTJ0x0a",
        "colab": {
          "base_uri": "https://localhost:8080/"
        },
        "outputId": "5f606321-2a1f-412e-e4d4-f73de6fd5b39"
      },
      "source": [
        "svr_reg = MultiOutputRegressor(SVR(kernel='rbf', max_iter=max_iter))\n",
        "svr_reg.fit(X_train, y_train)"
      ],
      "execution_count": null,
      "outputs": [
        {
          "output_type": "execute_result",
          "data": {
            "text/plain": [
              "MultiOutputRegressor(estimator=SVR(C=1.0, cache_size=200, coef0=0.0, degree=3,\n",
              "                                   epsilon=0.1, gamma='scale', kernel='rbf',\n",
              "                                   max_iter=10000, shrinking=True, tol=0.001,\n",
              "                                   verbose=False),\n",
              "                     n_jobs=None)"
            ]
          },
          "metadata": {
            "tags": []
          },
          "execution_count": 35
        }
      ]
    },
    {
      "cell_type": "code",
      "metadata": {
        "id": "PqpuxUn3DDhM",
        "colab": {
          "base_uri": "https://localhost:8080/"
        },
        "outputId": "61222293-fc72-4af7-9988-51667e77b0e3"
      },
      "source": [
        "svr_reg.score(X_test, y_test)"
      ],
      "execution_count": null,
      "outputs": [
        {
          "output_type": "execute_result",
          "data": {
            "text/plain": [
              "-0.21058945460871092"
            ]
          },
          "metadata": {
            "tags": []
          },
          "execution_count": 36
        }
      ]
    },
    {
      "cell_type": "code",
      "metadata": {
        "id": "Ew-zYWAYS5Ag",
        "colab": {
          "base_uri": "https://localhost:8080/"
        },
        "outputId": "30022de3-2afc-4e4c-b4f0-8543dce0e7a6"
      },
      "source": [
        "dt_reg = DecisionTreeRegressor(random_state = seed)  \n",
        "dt_reg.fit(X_train, y_train)"
      ],
      "execution_count": null,
      "outputs": [
        {
          "output_type": "execute_result",
          "data": {
            "text/plain": [
              "DecisionTreeRegressor(ccp_alpha=0.0, criterion='mse', max_depth=None,\n",
              "                      max_features=None, max_leaf_nodes=None,\n",
              "                      min_impurity_decrease=0.0, min_impurity_split=None,\n",
              "                      min_samples_leaf=1, min_samples_split=2,\n",
              "                      min_weight_fraction_leaf=0.0, presort='deprecated',\n",
              "                      random_state=135, splitter='best')"
            ]
          },
          "metadata": {
            "tags": []
          },
          "execution_count": 37
        }
      ]
    },
    {
      "cell_type": "code",
      "metadata": {
        "id": "ZlnrRkYWDJf4",
        "colab": {
          "base_uri": "https://localhost:8080/"
        },
        "outputId": "84ed80f9-eeaf-4195-cc38-3eb6fca31ad0"
      },
      "source": [
        "dt_reg.score(X_test, y_test)"
      ],
      "execution_count": null,
      "outputs": [
        {
          "output_type": "stream",
          "text": [
            "/usr/local/lib/python3.6/dist-packages/sklearn/base.py:434: FutureWarning: The default value of multioutput (not exposed in score method) will change from 'variance_weighted' to 'uniform_average' in 0.23 to keep consistent with 'metrics.r2_score'. To specify the default value manually and avoid the warning, please either call 'metrics.r2_score' directly or make a custom scorer with 'metrics.make_scorer' (the built-in scorer 'r2' uses multioutput='uniform_average').\n",
            "  \"multioutput='uniform_average').\", FutureWarning)\n"
          ],
          "name": "stderr"
        },
        {
          "output_type": "execute_result",
          "data": {
            "text/plain": [
              "-0.2629815132937462"
            ]
          },
          "metadata": {
            "tags": []
          },
          "execution_count": 38
        }
      ]
    },
    {
      "cell_type": "markdown",
      "metadata": {
        "id": "sHuq-4tt-Kb3"
      },
      "source": [
        "As a result of the poor score, we pivoted from this to a different model."
      ]
    }
  ]
}

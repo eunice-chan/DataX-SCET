{
  "nbformat": 4,
  "nbformat_minor": 0,
  "metadata": {
    "colab": {
      "name": "Collaborative Filtering.ipynb",
      "provenance": []
    },
    "kernelspec": {
      "name": "python3",
      "display_name": "Python 3"
    }
  },
  "cells": [
    {
      "cell_type": "markdown",
      "metadata": {
        "id": "NOC_AG85EyDZ"
      },
      "source": [
        "# Collaborative Filtering\n",
        "## Big Idea\n",
        "Input: user features, dataframe of user-activities rating with user features and activity features, an integer N.\n",
        "1. Score users by how similar they are to the given user.\n",
        "2. Multiply the similarity of the users with the activity score.\n",
        "3. From the top N most similar rows, find the most common features (assuming features are independent). These belong to the \"ideal\" activity.\n",
        "4. Based on the features of the \"ideal\" activity, score activities based on how similar the features are to the top features.\n",
        "5. Return the ordered list of activities ranked by similarity to the \"ideal\" activity."
      ]
    },
    {
      "cell_type": "code",
      "metadata": {
        "colab": {
          "base_uri": "https://localhost:8080/"
        },
        "id": "7AeWxeoLEs1u",
        "outputId": "245ccf15-9be0-410b-ce0b-4e89c917723e"
      },
      "source": [
        "from google.colab import drive\n",
        "drive.mount('/content/drive')"
      ],
      "execution_count": 50,
      "outputs": [
        {
          "output_type": "stream",
          "text": [
            "Drive already mounted at /content/drive; to attempt to forcibly remount, call drive.mount(\"/content/drive\", force_remount=True).\n"
          ],
          "name": "stdout"
        }
      ]
    },
    {
      "cell_type": "code",
      "metadata": {
        "id": "F_fyCp-fGYzf"
      },
      "source": [
        "\n",
        "base_path = '/content/drive/My Drive/SCET/Data/'\n",
        "response_path = base_path + 'SCET Friendship questionnaire (Responses) - Form Responses 1.csv'"
      ],
      "execution_count": 51,
      "outputs": []
    },
    {
      "cell_type": "code",
      "metadata": {
        "id": "pW7Kt-b0GVgQ"
      },
      "source": [
        "import pandas as pd\n",
        "import numpy as np\n",
        "from sklearn.compose import ColumnTransformer\n",
        "from sklearn.preprocessing import OneHotEncoder\n",
        "from sklearn.metrics.pairwise import cosine_similarity"
      ],
      "execution_count": 52,
      "outputs": []
    },
    {
      "cell_type": "markdown",
      "metadata": {
        "id": "3eCU8WHRGnd4"
      },
      "source": [
        "# Import Data"
      ]
    },
    {
      "cell_type": "code",
      "metadata": {
        "id": "7Dq3NOlrIH5h"
      },
      "source": [
        "deleted_features = ['Favorite movie genre?', \n",
        "                    'What qualities do you look for in a friend?', \n",
        "                    'Social distance run']\n",
        "feedback_features = ['Timestamp', 'Email Address', \n",
        "                     'Any comments on the overall structure of the survey?', \n",
        "                     'Are the questions relevant to qualities you look for in a friend?', \n",
        "                     'Any suggestions on question we should be asking?', \n",
        "                     'What has been your favorite activity recently and why? ', \n",
        "                     'What are some virtual activities that you have been enjoying recently? ']\n",
        "user_features = ['Age', 'Gender', 'College major?', 'How outdoorsy are you?',\n",
        "                'When is your preferred time to hang out with friends? ',\n",
        "                'What is your preferred way of spending time with friends?',\n",
        "                'How often do you like to spend time with your friends?',\n",
        "                'How many people do you like to spend time with at once?',\n",
        "                'What is your top love language?', 'Introvert or extrovert?']\n",
        "activites_features = ['Rank these activities on how much you enjoy them? (5 is most enjoyable) [Hiking]',\n",
        "                      'Rank these activities on how much you enjoy them? (5 is most enjoyable) [Journaling]',\n",
        "                      'Rank these activities on how much you enjoy them? (5 is most enjoyable) [Reading nonfiction]',\n",
        "                      'Rank these activities on how much you enjoy them? (5 is most enjoyable) [Drawing]',\n",
        "                      'Rank these activities on how much you enjoy them? (5 is most enjoyable) [Hanging out with friends. (pre-COVID)]',\n",
        "                      'Social distance exercise (walk, run, etc.)', \n",
        "                      'Netflix party',\n",
        "                      'Video chat hangout', \n",
        "                      'Wine tasting/Cocktail shake up',\n",
        "                      'Trivia contests', \n",
        "                      'Virtual escape room', \n",
        "                      'Arts and crafts ']\n",
        "user_id = ['First Name', 'Last Name']"
      ],
      "execution_count": 53,
      "outputs": []
    },
    {
      "cell_type": "code",
      "metadata": {
        "id": "8ORL83CuGhJM"
      },
      "source": [
        "full_data = pd.read_csv(response_path)\n",
        "full_data = full_data.drop(range(6)).drop(deleted_features, axis=1)\n",
        "\n",
        "user_data = full_data[user_id + user_features].copy()\n",
        "activities_data = full_data[user_id + activites_features].copy()"
      ],
      "execution_count": 54,
      "outputs": []
    },
    {
      "cell_type": "code",
      "metadata": {
        "colab": {
          "base_uri": "https://localhost:8080/",
          "height": 340
        },
        "id": "gKZZPPSZp5aP",
        "outputId": "38ebd37b-1b3e-4e12-c1df-72a9ae9b4c69"
      },
      "source": [
        "user_data.drop(columns=user_id).head()"
      ],
      "execution_count": 55,
      "outputs": [
        {
          "output_type": "execute_result",
          "data": {
            "text/html": [
              "<div>\n",
              "<style scoped>\n",
              "    .dataframe tbody tr th:only-of-type {\n",
              "        vertical-align: middle;\n",
              "    }\n",
              "\n",
              "    .dataframe tbody tr th {\n",
              "        vertical-align: top;\n",
              "    }\n",
              "\n",
              "    .dataframe thead th {\n",
              "        text-align: right;\n",
              "    }\n",
              "</style>\n",
              "<table border=\"1\" class=\"dataframe\">\n",
              "  <thead>\n",
              "    <tr style=\"text-align: right;\">\n",
              "      <th></th>\n",
              "      <th>Age</th>\n",
              "      <th>Gender</th>\n",
              "      <th>College major?</th>\n",
              "      <th>How outdoorsy are you?</th>\n",
              "      <th>When is your preferred time to hang out with friends?</th>\n",
              "      <th>What is your preferred way of spending time with friends?</th>\n",
              "      <th>How often do you like to spend time with your friends?</th>\n",
              "      <th>How many people do you like to spend time with at once?</th>\n",
              "      <th>What is your top love language?</th>\n",
              "      <th>Introvert or extrovert?</th>\n",
              "    </tr>\n",
              "  </thead>\n",
              "  <tbody>\n",
              "    <tr>\n",
              "      <th>6</th>\n",
              "      <td>22</td>\n",
              "      <td>Female</td>\n",
              "      <td>Econ + Data Sci</td>\n",
              "      <td>Very outdoorsy</td>\n",
              "      <td>Weekends during the day, Weekends at night</td>\n",
              "      <td>Grabbing foods or drinks together, Doing an ac...</td>\n",
              "      <td>Once a week</td>\n",
              "      <td>The more the merrier</td>\n",
              "      <td>Quality time</td>\n",
              "      <td>Extrovert</td>\n",
              "    </tr>\n",
              "    <tr>\n",
              "      <th>7</th>\n",
              "      <td>20</td>\n",
              "      <td>Female</td>\n",
              "      <td>STEM</td>\n",
              "      <td>Very outdoorsy</td>\n",
              "      <td>Weekdays during the day, Weekends during the d...</td>\n",
              "      <td>Grabbing foods or drinks together, Doing an ac...</td>\n",
              "      <td>2-3 times a week</td>\n",
              "      <td>Small groups (up to 5 people)</td>\n",
              "      <td>Acts of service</td>\n",
              "      <td>Introvert</td>\n",
              "    </tr>\n",
              "    <tr>\n",
              "      <th>8</th>\n",
              "      <td>19</td>\n",
              "      <td>Female</td>\n",
              "      <td>Business</td>\n",
              "      <td>Somewhat outdoorsy</td>\n",
              "      <td>Weekdays at night</td>\n",
              "      <td>Electronically: messaging, calling, video-chat...</td>\n",
              "      <td>2-3 times a week</td>\n",
              "      <td>Small groups (up to 5 people)</td>\n",
              "      <td>Acts of service</td>\n",
              "      <td>Introvert</td>\n",
              "    </tr>\n",
              "    <tr>\n",
              "      <th>9</th>\n",
              "      <td>21</td>\n",
              "      <td>Female</td>\n",
              "      <td>STEM</td>\n",
              "      <td>Somewhat outdoorsy</td>\n",
              "      <td>Weekdays during the day, Weekends during the d...</td>\n",
              "      <td>Electronically: messaging, calling, video-chat...</td>\n",
              "      <td>Once a week</td>\n",
              "      <td>Small groups (up to 5 people)</td>\n",
              "      <td>Quality time</td>\n",
              "      <td>Extrovert</td>\n",
              "    </tr>\n",
              "    <tr>\n",
              "      <th>10</th>\n",
              "      <td>21</td>\n",
              "      <td>Female</td>\n",
              "      <td>Humanities</td>\n",
              "      <td>More or less</td>\n",
              "      <td>Weekends during the day, Weekends at night</td>\n",
              "      <td>Grabbing foods or drinks together, Doing an ac...</td>\n",
              "      <td>2-3 times a week</td>\n",
              "      <td>One-on-one only</td>\n",
              "      <td>Words of Affirmation</td>\n",
              "      <td>Extrovert</td>\n",
              "    </tr>\n",
              "  </tbody>\n",
              "</table>\n",
              "</div>"
            ],
            "text/plain": [
              "    Age  Gender  ... What is your top love language? Introvert or extrovert?\n",
              "6    22  Female  ...                    Quality time               Extrovert\n",
              "7    20  Female  ...                 Acts of service               Introvert\n",
              "8    19  Female  ...                 Acts of service               Introvert\n",
              "9    21  Female  ...                    Quality time               Extrovert\n",
              "10   21  Female  ...            Words of Affirmation               Extrovert\n",
              "\n",
              "[5 rows x 10 columns]"
            ]
          },
          "metadata": {
            "tags": []
          },
          "execution_count": 55
        }
      ]
    },
    {
      "cell_type": "code",
      "metadata": {
        "colab": {
          "base_uri": "https://localhost:8080/",
          "height": 340
        },
        "id": "76YVV1Ccp3-M",
        "outputId": "3c20b7e0-eac4-4f14-ec7c-17e6f478dca4"
      },
      "source": [
        "activities_data.drop(columns=user_id).head()"
      ],
      "execution_count": 56,
      "outputs": [
        {
          "output_type": "execute_result",
          "data": {
            "text/html": [
              "<div>\n",
              "<style scoped>\n",
              "    .dataframe tbody tr th:only-of-type {\n",
              "        vertical-align: middle;\n",
              "    }\n",
              "\n",
              "    .dataframe tbody tr th {\n",
              "        vertical-align: top;\n",
              "    }\n",
              "\n",
              "    .dataframe thead th {\n",
              "        text-align: right;\n",
              "    }\n",
              "</style>\n",
              "<table border=\"1\" class=\"dataframe\">\n",
              "  <thead>\n",
              "    <tr style=\"text-align: right;\">\n",
              "      <th></th>\n",
              "      <th>Rank these activities on how much you enjoy them? (5 is most enjoyable) [Hiking]</th>\n",
              "      <th>Rank these activities on how much you enjoy them? (5 is most enjoyable) [Journaling]</th>\n",
              "      <th>Rank these activities on how much you enjoy them? (5 is most enjoyable) [Reading nonfiction]</th>\n",
              "      <th>Rank these activities on how much you enjoy them? (5 is most enjoyable) [Drawing]</th>\n",
              "      <th>Rank these activities on how much you enjoy them? (5 is most enjoyable) [Hanging out with friends. (pre-COVID)]</th>\n",
              "      <th>Social distance exercise (walk, run, etc.)</th>\n",
              "      <th>Netflix party</th>\n",
              "      <th>Video chat hangout</th>\n",
              "      <th>Wine tasting/Cocktail shake up</th>\n",
              "      <th>Trivia contests</th>\n",
              "      <th>Virtual escape room</th>\n",
              "      <th>Arts and crafts</th>\n",
              "    </tr>\n",
              "  </thead>\n",
              "  <tbody>\n",
              "    <tr>\n",
              "      <th>6</th>\n",
              "      <td>5</td>\n",
              "      <td>4</td>\n",
              "      <td>3</td>\n",
              "      <td>5</td>\n",
              "      <td>5</td>\n",
              "      <td>3.0</td>\n",
              "      <td>5.0</td>\n",
              "      <td>5.0</td>\n",
              "      <td>5.0</td>\n",
              "      <td>4.0</td>\n",
              "      <td>4.0</td>\n",
              "      <td>NaN</td>\n",
              "    </tr>\n",
              "    <tr>\n",
              "      <th>7</th>\n",
              "      <td>5</td>\n",
              "      <td>3</td>\n",
              "      <td>2</td>\n",
              "      <td>3</td>\n",
              "      <td>5</td>\n",
              "      <td>5.0</td>\n",
              "      <td>3.0</td>\n",
              "      <td>3.0</td>\n",
              "      <td>5.0</td>\n",
              "      <td>5.0</td>\n",
              "      <td>3.0</td>\n",
              "      <td>4.0</td>\n",
              "    </tr>\n",
              "    <tr>\n",
              "      <th>8</th>\n",
              "      <td>3</td>\n",
              "      <td>1</td>\n",
              "      <td>3</td>\n",
              "      <td>4</td>\n",
              "      <td>3</td>\n",
              "      <td>3.0</td>\n",
              "      <td>5.0</td>\n",
              "      <td>5.0</td>\n",
              "      <td>3.0</td>\n",
              "      <td>4.0</td>\n",
              "      <td>3.0</td>\n",
              "      <td>4.0</td>\n",
              "    </tr>\n",
              "    <tr>\n",
              "      <th>9</th>\n",
              "      <td>4</td>\n",
              "      <td>2</td>\n",
              "      <td>3</td>\n",
              "      <td>1</td>\n",
              "      <td>5</td>\n",
              "      <td>4.0</td>\n",
              "      <td>4.0</td>\n",
              "      <td>4.0</td>\n",
              "      <td>3.0</td>\n",
              "      <td>2.0</td>\n",
              "      <td>2.0</td>\n",
              "      <td>4.0</td>\n",
              "    </tr>\n",
              "    <tr>\n",
              "      <th>10</th>\n",
              "      <td>4</td>\n",
              "      <td>4</td>\n",
              "      <td>3</td>\n",
              "      <td>3</td>\n",
              "      <td>5</td>\n",
              "      <td>5.0</td>\n",
              "      <td>5.0</td>\n",
              "      <td>5.0</td>\n",
              "      <td>5.0</td>\n",
              "      <td>5.0</td>\n",
              "      <td>4.0</td>\n",
              "      <td>5.0</td>\n",
              "    </tr>\n",
              "  </tbody>\n",
              "</table>\n",
              "</div>"
            ],
            "text/plain": [
              "    Rank these activities on how much you enjoy them? (5 is most enjoyable) [Hiking]  ...  Arts and crafts \n",
              "6                                                   5                                 ...               NaN\n",
              "7                                                   5                                 ...               4.0\n",
              "8                                                   3                                 ...               4.0\n",
              "9                                                   4                                 ...               4.0\n",
              "10                                                  4                                 ...               5.0\n",
              "\n",
              "[5 rows x 12 columns]"
            ]
          },
          "metadata": {
            "tags": []
          },
          "execution_count": 56
        }
      ]
    },
    {
      "cell_type": "markdown",
      "metadata": {
        "id": "76qAy6-LKW71"
      },
      "source": [
        "# Preprocessing"
      ]
    },
    {
      "cell_type": "code",
      "metadata": {
        "id": "S5JvME4UN0qA"
      },
      "source": [
        "names_to_id = {}\n",
        "def anonymize(data, user_id):\n",
        "  data['UserID'] = range(data.shape[0])  \n",
        "  for _, r in data[['UserID'] + user_id].iterrows():\n",
        "    names_to_id[\"{} {}\".format(r[1], r[2]).title()] = r[0]\n",
        "  return data.drop(user_id, axis=1)"
      ],
      "execution_count": 57,
      "outputs": []
    },
    {
      "cell_type": "code",
      "metadata": {
        "id": "FXTulAkXGpOy"
      },
      "source": [
        "def preprocess_users(data, user_id):\n",
        "  data = anonymize(data, user_id)\n",
        "  \n",
        "  columns = list(data.columns)\n",
        "  one_hot_columns =  ['Gender', 'College major?', 'How outdoorsy are you?',\n",
        "                      'When is your preferred time to hang out with friends? ',\n",
        "                      'What is your preferred way of spending time with friends?',\n",
        "                      'How often do you like to spend time with your friends?',\n",
        "                      'How many people do you like to spend time with at once?',\n",
        "                      'What is your top love language?', 'Introvert or extrovert?']\n",
        "  \n",
        "  cat_indices = []\n",
        "  for col in one_hot_columns:\n",
        "    cat_indices += [columns.index(col)]\n",
        "\n",
        "  data_pipeline = ColumnTransformer([\n",
        "      ('categorical', OneHotEncoder(), cat_indices)\n",
        "  ], remainder='passthrough')\n",
        "\n",
        "  return data_pipeline.fit_transform(data)"
      ],
      "execution_count": 58,
      "outputs": []
    },
    {
      "cell_type": "code",
      "metadata": {
        "id": "H8fzdan2epk-"
      },
      "source": [
        "def preprocess_activities(data, user_id):\n",
        "  data = anonymize(data, user_id)\n",
        "\n",
        "  table = data.T\n",
        "  table.columns = table.iloc[-1]\n",
        "  table = table.iloc[:-1]\n",
        "\n",
        "  user_ids = []\n",
        "  user_enjoyment_level = []\n",
        "  activity_name = []\n",
        "\n",
        "  for i in table:\n",
        "    row = table[i]\n",
        "\n",
        "    for feat, val in zip(row.index, row):\n",
        "      user_ids.append(i)\n",
        "      user_enjoyment_level.append(val)\n",
        "      activity_name.append(feat)\n",
        "\n",
        "  df = pd.DataFrame({'UserID':user_ids, 'User Enjoyment Level':user_enjoyment_level, 'Activity Name':activity_name})\n",
        "\n",
        "  return df"
      ],
      "execution_count": 59,
      "outputs": []
    },
    {
      "cell_type": "markdown",
      "metadata": {
        "id": "uTlhilxEL_Zd"
      },
      "source": [
        "# Collaborative Filtering Algorithm"
      ]
    },
    {
      "cell_type": "code",
      "metadata": {
        "id": "X-dCeq0QL_nd"
      },
      "source": [
        "def similarity(x, y):\n",
        "  return cosine_similarity(x.reshape(1,-1),y.reshape(1,-1))"
      ],
      "execution_count": 60,
      "outputs": []
    },
    {
      "cell_type": "code",
      "metadata": {
        "id": "1mzfjkCrNIIl"
      },
      "source": [
        "def similarity_to_user(user, all_users):\n",
        "  similarity_to_user_array = []\n",
        "  for curr_user in all_users:\n",
        "    similarity_to_user_array.extend(similarity(user, curr_user)[0])\n",
        "  return similarity_to_user_array"
      ],
      "execution_count": 61,
      "outputs": []
    },
    {
      "cell_type": "code",
      "metadata": {
        "id": "7hUnSxMGMK6a"
      },
      "source": [
        "def suggest_activity(N, user, all_users, activities_df, index_of_user_id, activity_score_name):\n",
        "  # Score users by how similar they are to the given user.\n",
        "  user_similarity_array = similarity_to_user(user, all_users)\n",
        "\n",
        "  userIDs = list(range(len(user_similarity_array)))\n",
        "\n",
        "  user_similarity_df = pd.DataFrame({\"User Similarity\": user_similarity_array, \"UserID\": userIDs})\n",
        "  df = user_similarity_df.merge(all_activities, on='UserID').drop('UserID', axis=1)\n",
        "\n",
        "  # Multiply the similarity of the users with the activity score. \n",
        "  df['Activity Match'] = [a*b for a, b in zip(df['User Similarity'], df[activity_score_name])]\n",
        "\n",
        "  # From the top N most similar rows, find the most common features (assuming features are independent). These belong to the \"ideal\" activity.\n",
        "  # Based on the features of the \"ideal\" activity, score activities based on how similar the features are to the top features.\n",
        "  # Return the ordered list of activities ranked by similarity to the \"ideal\" activity.\n",
        "  # >>>> CURRENT: Return top from sorted list of activities.\n",
        "  df = df.sort_values('Activity Match', ascending=False)\n",
        "  top_N = df.iloc[:N]\n",
        "  sorted_activities = top_N['Activity Name'].value_counts(sort=True, ascending=False)\n",
        "\n",
        "  return sorted_activities.index"
      ],
      "execution_count": 62,
      "outputs": []
    },
    {
      "cell_type": "code",
      "metadata": {
        "colab": {
          "base_uri": "https://localhost:8080/"
        },
        "id": "lu3asGKtQhXN",
        "outputId": "9f2f57c5-2534-4443-d741-f39369195658"
      },
      "source": [
        "all_users = np.array(preprocess_users(user_data, user_id).todense())\n",
        "all_activities = preprocess_activities(activities_data, user_id)\n",
        "N = 10\n",
        "i = 15\n",
        "index_of_user_id = 42\n",
        "given_user = all_users[i]\n",
        "suggest_activity(N, given_user, all_users, all_activities, index_of_user_id, 'User Enjoyment Level')"
      ],
      "execution_count": 63,
      "outputs": [
        {
          "output_type": "execute_result",
          "data": {
            "text/plain": [
              "Index(['Rank these activities on how much you enjoy them? (5 is most enjoyable) [Hanging out with friends. (pre-COVID)]',\n",
              "       'Wine tasting/Cocktail shake up', 'Trivia contests',\n",
              "       'Video chat hangout',\n",
              "       'Rank these activities on how much you enjoy them? (5 is most enjoyable) [Hiking]',\n",
              "       'Arts and crafts '],\n",
              "      dtype='object')"
            ]
          },
          "metadata": {
            "tags": []
          },
          "execution_count": 63
        }
      ]
    },
    {
      "cell_type": "markdown",
      "metadata": {
        "id": "W9oRm64pbFR-"
      },
      "source": [
        "# Apply"
      ]
    },
    {
      "cell_type": "code",
      "metadata": {
        "id": "tiIKQNDcDaER"
      },
      "source": [
        "def match_prefs(pref1, pref2):\n",
        "  pref1 = list(pref1)\n",
        "  pref2 = list(pref2)\n",
        "  ranked_pref = {}\n",
        "\n",
        "  for i in pref1:\n",
        "    if i in pref2:\n",
        "      ranked_pref[i] = (pref1.index(i) + 1) * (pref2.index(i) + 1)\n",
        "\n",
        "  sorted_activities = sorted(ranked_pref, key=ranked_pref.__getitem__)\n",
        "\n",
        "  if not sorted_activities:\n",
        "    print(\"May be bad match.\")\n",
        "    return None\n",
        "\n",
        "  return sorted_activities"
      ],
      "execution_count": 64,
      "outputs": []
    },
    {
      "cell_type": "code",
      "metadata": {
        "id": "PKa4jdlQa3Yv"
      },
      "source": [
        "pairing_path = base_path + 'Random Pairings - Sheet2.csv'\n",
        "pairings_df = pd.read_csv(pairing_path, header=None)\n",
        "standardized_pairings = pairings_df.apply(lambda x: x.apply(lambda y: y.title().strip()))\n",
        "pairings = standardized_pairings.apply(lambda x: x.apply(lambda y: names_to_id[y]))"
      ],
      "execution_count": 65,
      "outputs": []
    },
    {
      "cell_type": "code",
      "metadata": {
        "id": "DTPSNYAIHO1q"
      },
      "source": [
        "def clean_responses(responses):\n",
        "  new_responses = []\n",
        "  for response in responses:\n",
        "    if \"[\" in response:\n",
        "      new_responses.append(response[response.index(\"[\")+1:-1])\n",
        "    else:\n",
        "      new_responses.append(response) \n",
        "  return new_responses"
      ],
      "execution_count": 66,
      "outputs": []
    },
    {
      "cell_type": "code",
      "metadata": {
        "colab": {
          "base_uri": "https://localhost:8080/"
        },
        "id": "xjnyNhrBjHv4",
        "outputId": "61cc4aed-4a13-4904-b440-50d834911f2b"
      },
      "source": [
        "N = 5\n",
        "activities_col = []\n",
        "for _, pair in pairings.iterrows():\n",
        "  print(\"User {} and User {}\".format(pair[0], pair[1]))\n",
        "  u1_ranked_pref = suggest_activity(N, all_users[pair[0]], all_users, all_activities, index_of_user_id, 'User Enjoyment Level')\n",
        "  u2_ranked_pref = suggest_activity(N, all_users[pair[1]], all_users, all_activities, index_of_user_id, 'User Enjoyment Level')\n",
        "  match = match_prefs(u1_ranked_pref, u2_ranked_pref)\n",
        "  if not match:\n",
        "    u1_ranked_pref = suggest_activity(len(activites_features), all_users[pair[0]], all_users, all_activities, index_of_user_id, 'User Enjoyment Level')\n",
        "    u2_ranked_pref = suggest_activity(len(activites_features), all_users[pair[1]], all_users, all_activities, index_of_user_id, 'User Enjoyment Level')\n",
        "    match = match_prefs(u1_ranked_pref, u2_ranked_pref)\n",
        "  activities_col.append(clean_responses(match))\n",
        "  print(\"Done\")\n",
        "standardized_pairings[\"Suggestion\"] = activities_col\n",
        "pairings[\"Suggestion\"] = activities_col"
      ],
      "execution_count": 67,
      "outputs": [
        {
          "output_type": "stream",
          "text": [
            "User 1 and User 12\n",
            "Done\n",
            "User 2 and User 13\n",
            "May be bad match.\n",
            "Done\n",
            "User 4 and User 14\n",
            "Done\n",
            "User 5 and User 15\n",
            "Done\n",
            "User 6 and User 16\n",
            "Done\n",
            "User 7 and User 17\n",
            "Done\n",
            "User 8 and User 18\n",
            "Done\n",
            "User 9 and User 19\n",
            "Done\n",
            "User 10 and User 20\n",
            "Done\n",
            "User 11 and User 0\n",
            "Done\n"
          ],
          "name": "stdout"
        }
      ]
    },
    {
      "cell_type": "code",
      "metadata": {
        "colab": {
          "base_uri": "https://localhost:8080/",
          "height": 359
        },
        "id": "bRZHwd4nflY3",
        "outputId": "29545811-6b8b-405d-f0ec-06b3e42eb4d6"
      },
      "source": [
        "# Preliminary Result\n",
        "standardized_pairings\n",
        "# Anonymize\n",
        "pairings"
      ],
      "execution_count": 68,
      "outputs": [
        {
          "output_type": "execute_result",
          "data": {
            "text/html": [
              "<div>\n",
              "<style scoped>\n",
              "    .dataframe tbody tr th:only-of-type {\n",
              "        vertical-align: middle;\n",
              "    }\n",
              "\n",
              "    .dataframe tbody tr th {\n",
              "        vertical-align: top;\n",
              "    }\n",
              "\n",
              "    .dataframe thead th {\n",
              "        text-align: right;\n",
              "    }\n",
              "</style>\n",
              "<table border=\"1\" class=\"dataframe\">\n",
              "  <thead>\n",
              "    <tr style=\"text-align: right;\">\n",
              "      <th></th>\n",
              "      <th>0</th>\n",
              "      <th>1</th>\n",
              "      <th>Suggestion</th>\n",
              "    </tr>\n",
              "  </thead>\n",
              "  <tbody>\n",
              "    <tr>\n",
              "      <th>0</th>\n",
              "      <td>1</td>\n",
              "      <td>12</td>\n",
              "      <td>[Trivia contests, Hanging out with friends. (p...</td>\n",
              "    </tr>\n",
              "    <tr>\n",
              "      <th>1</th>\n",
              "      <td>2</td>\n",
              "      <td>13</td>\n",
              "      <td>[Hanging out with friends. (pre-COVID), Arts a...</td>\n",
              "    </tr>\n",
              "    <tr>\n",
              "      <th>2</th>\n",
              "      <td>4</td>\n",
              "      <td>14</td>\n",
              "      <td>[Hanging out with friends. (pre-COVID), Arts a...</td>\n",
              "    </tr>\n",
              "    <tr>\n",
              "      <th>3</th>\n",
              "      <td>5</td>\n",
              "      <td>15</td>\n",
              "      <td>[Trivia contests, Hanging out with friends. (p...</td>\n",
              "    </tr>\n",
              "    <tr>\n",
              "      <th>4</th>\n",
              "      <td>6</td>\n",
              "      <td>16</td>\n",
              "      <td>[Hanging out with friends. (pre-COVID), Arts a...</td>\n",
              "    </tr>\n",
              "    <tr>\n",
              "      <th>5</th>\n",
              "      <td>7</td>\n",
              "      <td>17</td>\n",
              "      <td>[Hanging out with friends. (pre-COVID), Social...</td>\n",
              "    </tr>\n",
              "    <tr>\n",
              "      <th>6</th>\n",
              "      <td>8</td>\n",
              "      <td>18</td>\n",
              "      <td>[Hanging out with friends. (pre-COVID)]</td>\n",
              "    </tr>\n",
              "    <tr>\n",
              "      <th>7</th>\n",
              "      <td>9</td>\n",
              "      <td>19</td>\n",
              "      <td>[Hanging out with friends. (pre-COVID), Wine t...</td>\n",
              "    </tr>\n",
              "    <tr>\n",
              "      <th>8</th>\n",
              "      <td>10</td>\n",
              "      <td>20</td>\n",
              "      <td>[Wine tasting/Cocktail shake up, Hanging out w...</td>\n",
              "    </tr>\n",
              "    <tr>\n",
              "      <th>9</th>\n",
              "      <td>11</td>\n",
              "      <td>0</td>\n",
              "      <td>[Drawing, Hanging out with friends. (pre-COVID)]</td>\n",
              "    </tr>\n",
              "  </tbody>\n",
              "</table>\n",
              "</div>"
            ],
            "text/plain": [
              "    0   1                                         Suggestion\n",
              "0   1  12  [Trivia contests, Hanging out with friends. (p...\n",
              "1   2  13  [Hanging out with friends. (pre-COVID), Arts a...\n",
              "2   4  14  [Hanging out with friends. (pre-COVID), Arts a...\n",
              "3   5  15  [Trivia contests, Hanging out with friends. (p...\n",
              "4   6  16  [Hanging out with friends. (pre-COVID), Arts a...\n",
              "5   7  17  [Hanging out with friends. (pre-COVID), Social...\n",
              "6   8  18            [Hanging out with friends. (pre-COVID)]\n",
              "7   9  19  [Hanging out with friends. (pre-COVID), Wine t...\n",
              "8  10  20  [Wine tasting/Cocktail shake up, Hanging out w...\n",
              "9  11   0   [Drawing, Hanging out with friends. (pre-COVID)]"
            ]
          },
          "metadata": {
            "tags": []
          },
          "execution_count": 68
        }
      ]
    },
    {
      "cell_type": "code",
      "metadata": {
        "id": "HjwosVsOIWOJ"
      },
      "source": [
        "activity_to_features = {\n",
        "  'HIKING':[1, 1, 1, 0, 0, 1, 1, 0],\n",
        "  'JOURNALING':[0, 0, 1, 1, 1, 0, 0, 0],\n",
        "  'READING NONFICTION':[0, 0, 1, 1, 0, 0, 0, 0],\n",
        "  'DRAWING':[0, 0, 1, 0, 1, 0, 0, 0],\n",
        "  'HANGING OUT WITH FRIENDS. (PRE-COVID)':[1, 1, 1, 0, 0, 1, 1, 1],\n",
        "  'SOCIAL DISTANCE EXERCISE (WALK, RUN, ETC.)':[1, 1, 1, 0, 0, 1, 1, 0],\n",
        "  'NETFLIX PARTY':[0, 0, 0, 0, 1, 1, 0, 0],\n",
        "  'VIDEO CHAT HANGOUT':[0, 0, 1, 0, 0, 1, 1, 0],\n",
        "  'WINE TASTING/COCKTAIL SHAKE UP':[0, 0, 1, 0, 1, 1, 1, 1],\n",
        "  'TRIVIA CONTESTS':[0, 0, 0, 0, 1, 1, 1, 0],\n",
        "  'VIRTUAL ESCAPE ROOM':[0, 0, 1, 0, 1, 1, 1, 0],\n",
        "  'ARTS AND CRAFTS':[0, 0, 1, 0, 1, 1, 0, 0]\n",
        "}\n",
        "\n",
        "suggestions_from_features = {\n",
        "  'PICNIC':[1, 0, 1, 0, 1, 1, 1, 1],\n",
        "  'GROUP GAMES (AMONG US, CODE NAMES, ETC.)':[0, 0, 0, 0, 1, 1, 1, 0],\n",
        "  'GRABBING FOOD OR DRINKS TOGETHER':[1, 0, 0, 0, 0, 0, 1, 1],\n",
        "  'STUDY TOGETHER':[0, 0, 0, 1, 0, 1, 0, 0],\n",
        "  'VIDEO GAMES':[0, 0, 0, 0, 1, 1, 1, 0],\n",
        "  'COOKING/BAKING CLASS':[0, 0, 1, 0, 1, 1, 1, 1],\n",
        "  'PAINTING SOCIAL':[1, 0, 0, 0, 1, 1, 1, 0],\n",
        "  'BOOK CLUB':[0, 0, 0, 1, 1, 1, 1, 0],\n",
        "  'KARAOKE':[0, 0, 0, 0, 1, 1, 1, 0],\n",
        "  'COOKING/BAKING COMPETITION':[0, 0, 1, 0, 1, 1, 1, 1],\n",
        "  'WORKOUT SESSION':[1, 1, 1, 0, 0, 1, 0, 0],\n",
        "  'SELF-CARE SHEET MASK + TEA SESSION':[0, 0, 1, 0, 1, 0, 1, 1],\n",
        "  'ONLINE SHOPPING SESSION':[0, 0, 0, 0, 1, 1, 0, 0]\n",
        "}\n"
      ],
      "execution_count": 69,
      "outputs": []
    },
    {
      "cell_type": "code",
      "metadata": {
        "id": "x1EOFeoRSTcM"
      },
      "source": [
        "def distance(x, y):\n",
        "  return np.sqrt(np.sum((np.array(x) - np.array(y))**2))\n",
        "\n",
        "def activity_similarity(activity):\n",
        "  similarity = {}\n",
        "  for suggestion in suggestions_from_features.keys():\n",
        "    similarity[suggestion.title()] = distance(activity, suggestions_from_features[suggestion])\n",
        "  return sorted(similarity, key=similarity.__getitem__)"
      ],
      "execution_count": 70,
      "outputs": []
    },
    {
      "cell_type": "code",
      "metadata": {
        "colab": {
          "base_uri": "https://localhost:8080/",
          "height": 359
        },
        "id": "T4oLzTrVSI99",
        "outputId": "f73e4ad5-3537-4852-ddc6-ec25ef897ca6"
      },
      "source": [
        "standardized_pairings[\"Suggestion\"] = standardized_pairings[\"Suggestion\"].apply(lambda y: activity_similarity(activity_to_features[y[0].strip().upper()]))\n",
        "# Anonymize\n",
        "pairings[\"Suggestion\"] = pairings[\"Suggestion\"].apply(lambda y: activity_similarity(activity_to_features[y[0].strip().upper()]))\n",
        "\n",
        "standardized_pairings\n",
        "# Anonymize\n",
        "pairings"
      ],
      "execution_count": 71,
      "outputs": [
        {
          "output_type": "execute_result",
          "data": {
            "text/html": [
              "<div>\n",
              "<style scoped>\n",
              "    .dataframe tbody tr th:only-of-type {\n",
              "        vertical-align: middle;\n",
              "    }\n",
              "\n",
              "    .dataframe tbody tr th {\n",
              "        vertical-align: top;\n",
              "    }\n",
              "\n",
              "    .dataframe thead th {\n",
              "        text-align: right;\n",
              "    }\n",
              "</style>\n",
              "<table border=\"1\" class=\"dataframe\">\n",
              "  <thead>\n",
              "    <tr style=\"text-align: right;\">\n",
              "      <th></th>\n",
              "      <th>0</th>\n",
              "      <th>1</th>\n",
              "      <th>Suggestion</th>\n",
              "    </tr>\n",
              "  </thead>\n",
              "  <tbody>\n",
              "    <tr>\n",
              "      <th>0</th>\n",
              "      <td>1</td>\n",
              "      <td>12</td>\n",
              "      <td>[Group Games (Among Us, Code Names, Etc.), Vid...</td>\n",
              "    </tr>\n",
              "    <tr>\n",
              "      <th>1</th>\n",
              "      <td>2</td>\n",
              "      <td>13</td>\n",
              "      <td>[Picnic, Workout Session, Grabbing Food Or Dri...</td>\n",
              "    </tr>\n",
              "    <tr>\n",
              "      <th>2</th>\n",
              "      <td>4</td>\n",
              "      <td>14</td>\n",
              "      <td>[Picnic, Workout Session, Grabbing Food Or Dri...</td>\n",
              "    </tr>\n",
              "    <tr>\n",
              "      <th>3</th>\n",
              "      <td>5</td>\n",
              "      <td>15</td>\n",
              "      <td>[Group Games (Among Us, Code Names, Etc.), Vid...</td>\n",
              "    </tr>\n",
              "    <tr>\n",
              "      <th>4</th>\n",
              "      <td>6</td>\n",
              "      <td>16</td>\n",
              "      <td>[Picnic, Workout Session, Grabbing Food Or Dri...</td>\n",
              "    </tr>\n",
              "    <tr>\n",
              "      <th>5</th>\n",
              "      <td>7</td>\n",
              "      <td>17</td>\n",
              "      <td>[Picnic, Workout Session, Grabbing Food Or Dri...</td>\n",
              "    </tr>\n",
              "    <tr>\n",
              "      <th>6</th>\n",
              "      <td>8</td>\n",
              "      <td>18</td>\n",
              "      <td>[Picnic, Workout Session, Grabbing Food Or Dri...</td>\n",
              "    </tr>\n",
              "    <tr>\n",
              "      <th>7</th>\n",
              "      <td>9</td>\n",
              "      <td>19</td>\n",
              "      <td>[Picnic, Workout Session, Grabbing Food Or Dri...</td>\n",
              "    </tr>\n",
              "    <tr>\n",
              "      <th>8</th>\n",
              "      <td>10</td>\n",
              "      <td>20</td>\n",
              "      <td>[Cooking/Baking Class, Cooking/Baking Competit...</td>\n",
              "    </tr>\n",
              "    <tr>\n",
              "      <th>9</th>\n",
              "      <td>11</td>\n",
              "      <td>0</td>\n",
              "      <td>[Self-Care Sheet Mask + Tea Session, Online Sh...</td>\n",
              "    </tr>\n",
              "  </tbody>\n",
              "</table>\n",
              "</div>"
            ],
            "text/plain": [
              "    0   1                                         Suggestion\n",
              "0   1  12  [Group Games (Among Us, Code Names, Etc.), Vid...\n",
              "1   2  13  [Picnic, Workout Session, Grabbing Food Or Dri...\n",
              "2   4  14  [Picnic, Workout Session, Grabbing Food Or Dri...\n",
              "3   5  15  [Group Games (Among Us, Code Names, Etc.), Vid...\n",
              "4   6  16  [Picnic, Workout Session, Grabbing Food Or Dri...\n",
              "5   7  17  [Picnic, Workout Session, Grabbing Food Or Dri...\n",
              "6   8  18  [Picnic, Workout Session, Grabbing Food Or Dri...\n",
              "7   9  19  [Picnic, Workout Session, Grabbing Food Or Dri...\n",
              "8  10  20  [Cooking/Baking Class, Cooking/Baking Competit...\n",
              "9  11   0  [Self-Care Sheet Mask + Tea Session, Online Sh..."
            ]
          },
          "metadata": {
            "tags": []
          },
          "execution_count": 71
        }
      ]
    },
    {
      "cell_type": "code",
      "metadata": {
        "id": "4ulrwMfAqLOQ",
        "colab": {
          "base_uri": "https://localhost:8080/"
        },
        "outputId": "93779d1f-8148-435e-fd9e-c17b0a9175b5"
      },
      "source": [
        "# for _, r in standardized_pairings.iterrows():\n",
        "for _, r in pairings.iterrows():\n",
        "  print(\"Ranked Suggestions for {} and {}\".format(r[0], r[1]))\n",
        "  for i, activity in enumerate(r['Suggestion']):\n",
        "    if i < 9:\n",
        "      print(\"{}.  {}\".format(i+1, activity))\n",
        "    else:\n",
        "      print(\"{}. {}\".format(i+1, activity))\n",
        "  print()"
      ],
      "execution_count": 72,
      "outputs": [
        {
          "output_type": "stream",
          "text": [
            "Ranked Suggestions for 1 and 12\n",
            "1.  Group Games (Among Us, Code Names, Etc.)\n",
            "2.  Video Games\n",
            "3.  Karaoke\n",
            "4.  Painting Social\n",
            "5.  Book Club\n",
            "6.  Online Shopping Session\n",
            "7.  Cooking/Baking Class\n",
            "8.  Cooking/Baking Competition\n",
            "9.  Picnic\n",
            "10. Study Together\n",
            "11. Self-Care Sheet Mask + Tea Session\n",
            "12. Grabbing Food Or Drinks Together\n",
            "13. Workout Session\n",
            "\n",
            "Ranked Suggestions for 2 and 13\n",
            "1.  Picnic\n",
            "2.  Workout Session\n",
            "3.  Grabbing Food Or Drinks Together\n",
            "4.  Cooking/Baking Class\n",
            "5.  Cooking/Baking Competition\n",
            "6.  Painting Social\n",
            "7.  Self-Care Sheet Mask + Tea Session\n",
            "8.  Group Games (Among Us, Code Names, Etc.)\n",
            "9.  Video Games\n",
            "10. Karaoke\n",
            "11. Study Together\n",
            "12. Book Club\n",
            "13. Online Shopping Session\n",
            "\n",
            "Ranked Suggestions for 4 and 14\n",
            "1.  Picnic\n",
            "2.  Workout Session\n",
            "3.  Grabbing Food Or Drinks Together\n",
            "4.  Cooking/Baking Class\n",
            "5.  Cooking/Baking Competition\n",
            "6.  Painting Social\n",
            "7.  Self-Care Sheet Mask + Tea Session\n",
            "8.  Group Games (Among Us, Code Names, Etc.)\n",
            "9.  Video Games\n",
            "10. Karaoke\n",
            "11. Study Together\n",
            "12. Book Club\n",
            "13. Online Shopping Session\n",
            "\n",
            "Ranked Suggestions for 5 and 15\n",
            "1.  Group Games (Among Us, Code Names, Etc.)\n",
            "2.  Video Games\n",
            "3.  Karaoke\n",
            "4.  Painting Social\n",
            "5.  Book Club\n",
            "6.  Online Shopping Session\n",
            "7.  Cooking/Baking Class\n",
            "8.  Cooking/Baking Competition\n",
            "9.  Picnic\n",
            "10. Study Together\n",
            "11. Self-Care Sheet Mask + Tea Session\n",
            "12. Grabbing Food Or Drinks Together\n",
            "13. Workout Session\n",
            "\n",
            "Ranked Suggestions for 6 and 16\n",
            "1.  Picnic\n",
            "2.  Workout Session\n",
            "3.  Grabbing Food Or Drinks Together\n",
            "4.  Cooking/Baking Class\n",
            "5.  Cooking/Baking Competition\n",
            "6.  Painting Social\n",
            "7.  Self-Care Sheet Mask + Tea Session\n",
            "8.  Group Games (Among Us, Code Names, Etc.)\n",
            "9.  Video Games\n",
            "10. Karaoke\n",
            "11. Study Together\n",
            "12. Book Club\n",
            "13. Online Shopping Session\n",
            "\n",
            "Ranked Suggestions for 7 and 17\n",
            "1.  Picnic\n",
            "2.  Workout Session\n",
            "3.  Grabbing Food Or Drinks Together\n",
            "4.  Cooking/Baking Class\n",
            "5.  Cooking/Baking Competition\n",
            "6.  Painting Social\n",
            "7.  Self-Care Sheet Mask + Tea Session\n",
            "8.  Group Games (Among Us, Code Names, Etc.)\n",
            "9.  Video Games\n",
            "10. Karaoke\n",
            "11. Study Together\n",
            "12. Book Club\n",
            "13. Online Shopping Session\n",
            "\n",
            "Ranked Suggestions for 8 and 18\n",
            "1.  Picnic\n",
            "2.  Workout Session\n",
            "3.  Grabbing Food Or Drinks Together\n",
            "4.  Cooking/Baking Class\n",
            "5.  Cooking/Baking Competition\n",
            "6.  Painting Social\n",
            "7.  Self-Care Sheet Mask + Tea Session\n",
            "8.  Group Games (Among Us, Code Names, Etc.)\n",
            "9.  Video Games\n",
            "10. Karaoke\n",
            "11. Study Together\n",
            "12. Book Club\n",
            "13. Online Shopping Session\n",
            "\n",
            "Ranked Suggestions for 9 and 19\n",
            "1.  Picnic\n",
            "2.  Workout Session\n",
            "3.  Grabbing Food Or Drinks Together\n",
            "4.  Cooking/Baking Class\n",
            "5.  Cooking/Baking Competition\n",
            "6.  Painting Social\n",
            "7.  Self-Care Sheet Mask + Tea Session\n",
            "8.  Group Games (Among Us, Code Names, Etc.)\n",
            "9.  Video Games\n",
            "10. Karaoke\n",
            "11. Study Together\n",
            "12. Book Club\n",
            "13. Online Shopping Session\n",
            "\n",
            "Ranked Suggestions for 10 and 20\n",
            "1.  Cooking/Baking Class\n",
            "2.  Cooking/Baking Competition\n",
            "3.  Picnic\n",
            "4.  Self-Care Sheet Mask + Tea Session\n",
            "5.  Group Games (Among Us, Code Names, Etc.)\n",
            "6.  Video Games\n",
            "7.  Karaoke\n",
            "8.  Painting Social\n",
            "9.  Book Club\n",
            "10. Online Shopping Session\n",
            "11. Grabbing Food Or Drinks Together\n",
            "12. Study Together\n",
            "13. Workout Session\n",
            "\n",
            "Ranked Suggestions for 11 and 0\n",
            "1.  Self-Care Sheet Mask + Tea Session\n",
            "2.  Online Shopping Session\n",
            "3.  Group Games (Among Us, Code Names, Etc.)\n",
            "4.  Video Games\n",
            "5.  Cooking/Baking Class\n",
            "6.  Karaoke\n",
            "7.  Cooking/Baking Competition\n",
            "8.  Picnic\n",
            "9.  Study Together\n",
            "10. Painting Social\n",
            "11. Book Club\n",
            "12. Workout Session\n",
            "13. Grabbing Food Or Drinks Together\n",
            "\n"
          ],
          "name": "stdout"
        }
      ]
    }
  ]
}